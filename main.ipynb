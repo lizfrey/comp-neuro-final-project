{
 "cells": [
  {
   "cell_type": "markdown",
   "metadata": {},
   "source": [
    "# Computational Neuroscience Final Project\n",
    "## Elizabeth Frey\n",
    "\n",
    "For this project, I used the following resources:\n",
    "* ChatGPT: See Chat GPT Prompts and Responses Document\n",
    "* [Keras Model Documentation](https://www.tensorflow.org/api_docs/python/tf/keras/Model#fit)\n",
    "* [GRU Layer Tutorial](https://pythonalgos.com/2022/01/02/build-a-gru-rnn-in-keras/): Note, I implemented this in the `tutorial.ipynb` file and then used its format as a guideline\n",
    "* [Skip Thought Vector Libraries and Example](https://pypi.org/project/skip-thoughts/)"
   ]
  },
  {
   "cell_type": "code",
   "execution_count": 27,
   "metadata": {},
   "outputs": [
    {
     "name": "stdout",
     "output_type": "stream",
     "text": [
      "Requirement already satisfied: numpy in /opt/homebrew/lib/python3.11/site-packages (from -r requirements.txt (line 1)) (1.26.1)\n",
      "Requirement already satisfied: pandas in /opt/homebrew/lib/python3.11/site-packages (from -r requirements.txt (line 2)) (2.1.2)\n",
      "Requirement already satisfied: tensorflow in /opt/homebrew/lib/python3.11/site-packages (from -r requirements.txt (line 3)) (2.14.0)\n",
      "Requirement already satisfied: gensim in /opt/homebrew/lib/python3.11/site-packages (from -r requirements.txt (line 4)) (4.3.2)\n",
      "Requirement already satisfied: scikit-learn in /opt/homebrew/lib/python3.11/site-packages (from -r requirements.txt (line 5)) (1.3.2)\n",
      "Requirement already satisfied: seaborn in /opt/homebrew/lib/python3.11/site-packages (from -r requirements.txt (line 7)) (0.13.0)\n",
      "Requirement already satisfied: matplotlib in /opt/homebrew/lib/python3.11/site-packages (from -r requirements.txt (line 8)) (3.8.1)\n",
      "Requirement already satisfied: theano in /opt/homebrew/lib/python3.11/site-packages (from -r requirements.txt (line 9)) (0.7.0)\n",
      "Requirement already satisfied: python-dateutil>=2.8.2 in /Users/elizabethfrey/Library/Python/3.11/lib/python/site-packages (from pandas->-r requirements.txt (line 2)) (2.8.2)\n",
      "Requirement already satisfied: pytz>=2020.1 in /opt/homebrew/lib/python3.11/site-packages (from pandas->-r requirements.txt (line 2)) (2023.3.post1)\n",
      "Requirement already satisfied: tzdata>=2022.1 in /opt/homebrew/lib/python3.11/site-packages (from pandas->-r requirements.txt (line 2)) (2023.3)\n",
      "Requirement already satisfied: tensorflow-macos==2.14.0 in /opt/homebrew/lib/python3.11/site-packages (from tensorflow->-r requirements.txt (line 3)) (2.14.0)\n",
      "Requirement already satisfied: absl-py>=1.0.0 in /opt/homebrew/lib/python3.11/site-packages (from tensorflow-macos==2.14.0->tensorflow->-r requirements.txt (line 3)) (2.0.0)\n",
      "Requirement already satisfied: astunparse>=1.6.0 in /opt/homebrew/lib/python3.11/site-packages (from tensorflow-macos==2.14.0->tensorflow->-r requirements.txt (line 3)) (1.6.3)\n",
      "Requirement already satisfied: flatbuffers>=23.5.26 in /opt/homebrew/lib/python3.11/site-packages (from tensorflow-macos==2.14.0->tensorflow->-r requirements.txt (line 3)) (23.5.26)\n",
      "Requirement already satisfied: gast!=0.5.0,!=0.5.1,!=0.5.2,>=0.2.1 in /opt/homebrew/lib/python3.11/site-packages (from tensorflow-macos==2.14.0->tensorflow->-r requirements.txt (line 3)) (0.5.4)\n",
      "Requirement already satisfied: google-pasta>=0.1.1 in /opt/homebrew/lib/python3.11/site-packages (from tensorflow-macos==2.14.0->tensorflow->-r requirements.txt (line 3)) (0.2.0)\n",
      "Requirement already satisfied: h5py>=2.9.0 in /opt/homebrew/lib/python3.11/site-packages (from tensorflow-macos==2.14.0->tensorflow->-r requirements.txt (line 3)) (3.10.0)\n",
      "Requirement already satisfied: libclang>=13.0.0 in /opt/homebrew/lib/python3.11/site-packages (from tensorflow-macos==2.14.0->tensorflow->-r requirements.txt (line 3)) (16.0.6)\n",
      "Requirement already satisfied: ml-dtypes==0.2.0 in /opt/homebrew/lib/python3.11/site-packages (from tensorflow-macos==2.14.0->tensorflow->-r requirements.txt (line 3)) (0.2.0)\n",
      "Requirement already satisfied: opt-einsum>=2.3.2 in /opt/homebrew/lib/python3.11/site-packages (from tensorflow-macos==2.14.0->tensorflow->-r requirements.txt (line 3)) (3.3.0)\n",
      "Requirement already satisfied: packaging in /Users/elizabethfrey/Library/Python/3.11/lib/python/site-packages (from tensorflow-macos==2.14.0->tensorflow->-r requirements.txt (line 3)) (23.2)\n",
      "Requirement already satisfied: protobuf!=4.21.0,!=4.21.1,!=4.21.2,!=4.21.3,!=4.21.4,!=4.21.5,<5.0.0dev,>=3.20.3 in /opt/homebrew/lib/python3.11/site-packages (from tensorflow-macos==2.14.0->tensorflow->-r requirements.txt (line 3)) (4.25.0)\n",
      "Requirement already satisfied: setuptools in /opt/homebrew/lib/python3.11/site-packages (from tensorflow-macos==2.14.0->tensorflow->-r requirements.txt (line 3)) (68.1.2)\n",
      "Requirement already satisfied: six>=1.12.0 in /Users/elizabethfrey/Library/Python/3.11/lib/python/site-packages (from tensorflow-macos==2.14.0->tensorflow->-r requirements.txt (line 3)) (1.16.0)\n",
      "Requirement already satisfied: termcolor>=1.1.0 in /opt/homebrew/lib/python3.11/site-packages (from tensorflow-macos==2.14.0->tensorflow->-r requirements.txt (line 3)) (2.3.0)\n",
      "Requirement already satisfied: typing-extensions>=3.6.6 in /opt/homebrew/lib/python3.11/site-packages (from tensorflow-macos==2.14.0->tensorflow->-r requirements.txt (line 3)) (4.8.0)\n",
      "Requirement already satisfied: wrapt<1.15,>=1.11.0 in /opt/homebrew/lib/python3.11/site-packages (from tensorflow-macos==2.14.0->tensorflow->-r requirements.txt (line 3)) (1.14.1)\n",
      "Requirement already satisfied: tensorflow-io-gcs-filesystem>=0.23.1 in /opt/homebrew/lib/python3.11/site-packages (from tensorflow-macos==2.14.0->tensorflow->-r requirements.txt (line 3)) (0.34.0)\n",
      "Requirement already satisfied: grpcio<2.0,>=1.24.3 in /opt/homebrew/lib/python3.11/site-packages (from tensorflow-macos==2.14.0->tensorflow->-r requirements.txt (line 3)) (1.59.2)\n",
      "Requirement already satisfied: tensorboard<2.15,>=2.14 in /opt/homebrew/lib/python3.11/site-packages (from tensorflow-macos==2.14.0->tensorflow->-r requirements.txt (line 3)) (2.14.1)\n",
      "Requirement already satisfied: tensorflow-estimator<2.15,>=2.14.0 in /opt/homebrew/lib/python3.11/site-packages (from tensorflow-macos==2.14.0->tensorflow->-r requirements.txt (line 3)) (2.14.0)\n",
      "Requirement already satisfied: keras<2.15,>=2.14.0 in /opt/homebrew/lib/python3.11/site-packages (from tensorflow-macos==2.14.0->tensorflow->-r requirements.txt (line 3)) (2.14.0)\n",
      "Requirement already satisfied: scipy>=1.7.0 in /opt/homebrew/lib/python3.11/site-packages (from gensim->-r requirements.txt (line 4)) (1.11.3)\n",
      "Requirement already satisfied: smart-open>=1.8.1 in /opt/homebrew/lib/python3.11/site-packages (from gensim->-r requirements.txt (line 4)) (6.4.0)\n",
      "Requirement already satisfied: joblib>=1.1.1 in /opt/homebrew/lib/python3.11/site-packages (from scikit-learn->-r requirements.txt (line 5)) (1.3.2)\n",
      "Requirement already satisfied: threadpoolctl>=2.0.0 in /opt/homebrew/lib/python3.11/site-packages (from scikit-learn->-r requirements.txt (line 5)) (3.2.0)\n",
      "Requirement already satisfied: contourpy>=1.0.1 in /opt/homebrew/lib/python3.11/site-packages (from matplotlib->-r requirements.txt (line 8)) (1.1.1)\n",
      "Requirement already satisfied: cycler>=0.10 in /opt/homebrew/lib/python3.11/site-packages (from matplotlib->-r requirements.txt (line 8)) (0.12.1)\n",
      "Requirement already satisfied: fonttools>=4.22.0 in /opt/homebrew/lib/python3.11/site-packages (from matplotlib->-r requirements.txt (line 8)) (4.43.1)\n",
      "Requirement already satisfied: kiwisolver>=1.3.1 in /opt/homebrew/lib/python3.11/site-packages (from matplotlib->-r requirements.txt (line 8)) (1.4.5)\n",
      "Requirement already satisfied: pillow>=8 in /opt/homebrew/lib/python3.11/site-packages (from matplotlib->-r requirements.txt (line 8)) (10.1.0)\n",
      "Requirement already satisfied: pyparsing>=2.3.1 in /opt/homebrew/lib/python3.11/site-packages (from matplotlib->-r requirements.txt (line 8)) (3.1.1)\n",
      "Requirement already satisfied: wheel<1.0,>=0.23.0 in /opt/homebrew/lib/python3.11/site-packages (from astunparse>=1.6.0->tensorflow-macos==2.14.0->tensorflow->-r requirements.txt (line 3)) (0.41.2)\n",
      "Requirement already satisfied: google-auth<3,>=1.6.3 in /opt/homebrew/lib/python3.11/site-packages (from tensorboard<2.15,>=2.14->tensorflow-macos==2.14.0->tensorflow->-r requirements.txt (line 3)) (2.23.4)\n",
      "Requirement already satisfied: google-auth-oauthlib<1.1,>=0.5 in /opt/homebrew/lib/python3.11/site-packages (from tensorboard<2.15,>=2.14->tensorflow-macos==2.14.0->tensorflow->-r requirements.txt (line 3)) (1.0.0)\n",
      "Requirement already satisfied: markdown>=2.6.8 in /opt/homebrew/lib/python3.11/site-packages (from tensorboard<2.15,>=2.14->tensorflow-macos==2.14.0->tensorflow->-r requirements.txt (line 3)) (3.5.1)\n",
      "Requirement already satisfied: requests<3,>=2.21.0 in /opt/homebrew/lib/python3.11/site-packages (from tensorboard<2.15,>=2.14->tensorflow-macos==2.14.0->tensorflow->-r requirements.txt (line 3)) (2.31.0)\n",
      "Requirement already satisfied: tensorboard-data-server<0.8.0,>=0.7.0 in /opt/homebrew/lib/python3.11/site-packages (from tensorboard<2.15,>=2.14->tensorflow-macos==2.14.0->tensorflow->-r requirements.txt (line 3)) (0.7.2)\n",
      "Requirement already satisfied: werkzeug>=1.0.1 in /opt/homebrew/lib/python3.11/site-packages (from tensorboard<2.15,>=2.14->tensorflow-macos==2.14.0->tensorflow->-r requirements.txt (line 3)) (3.0.1)\n",
      "Requirement already satisfied: cachetools<6.0,>=2.0.0 in /opt/homebrew/lib/python3.11/site-packages (from google-auth<3,>=1.6.3->tensorboard<2.15,>=2.14->tensorflow-macos==2.14.0->tensorflow->-r requirements.txt (line 3)) (5.3.2)\n",
      "Requirement already satisfied: pyasn1-modules>=0.2.1 in /opt/homebrew/lib/python3.11/site-packages (from google-auth<3,>=1.6.3->tensorboard<2.15,>=2.14->tensorflow-macos==2.14.0->tensorflow->-r requirements.txt (line 3)) (0.3.0)\n",
      "Requirement already satisfied: rsa<5,>=3.1.4 in /opt/homebrew/lib/python3.11/site-packages (from google-auth<3,>=1.6.3->tensorboard<2.15,>=2.14->tensorflow-macos==2.14.0->tensorflow->-r requirements.txt (line 3)) (4.9)\n",
      "Requirement already satisfied: requests-oauthlib>=0.7.0 in /opt/homebrew/lib/python3.11/site-packages (from google-auth-oauthlib<1.1,>=0.5->tensorboard<2.15,>=2.14->tensorflow-macos==2.14.0->tensorflow->-r requirements.txt (line 3)) (1.3.1)\n",
      "Requirement already satisfied: charset-normalizer<4,>=2 in /opt/homebrew/lib/python3.11/site-packages (from requests<3,>=2.21.0->tensorboard<2.15,>=2.14->tensorflow-macos==2.14.0->tensorflow->-r requirements.txt (line 3)) (3.3.2)\n",
      "Requirement already satisfied: idna<4,>=2.5 in /opt/homebrew/lib/python3.11/site-packages (from requests<3,>=2.21.0->tensorboard<2.15,>=2.14->tensorflow-macos==2.14.0->tensorflow->-r requirements.txt (line 3)) (3.4)\n",
      "Requirement already satisfied: urllib3<3,>=1.21.1 in /opt/homebrew/lib/python3.11/site-packages (from requests<3,>=2.21.0->tensorboard<2.15,>=2.14->tensorflow-macos==2.14.0->tensorflow->-r requirements.txt (line 3)) (2.0.7)\n",
      "Requirement already satisfied: certifi>=2017.4.17 in /opt/homebrew/lib/python3.11/site-packages (from requests<3,>=2.21.0->tensorboard<2.15,>=2.14->tensorflow-macos==2.14.0->tensorflow->-r requirements.txt (line 3)) (2023.7.22)\n",
      "Requirement already satisfied: MarkupSafe>=2.1.1 in /opt/homebrew/lib/python3.11/site-packages (from werkzeug>=1.0.1->tensorboard<2.15,>=2.14->tensorflow-macos==2.14.0->tensorflow->-r requirements.txt (line 3)) (2.1.3)\n",
      "Requirement already satisfied: pyasn1<0.6.0,>=0.4.6 in /opt/homebrew/lib/python3.11/site-packages (from pyasn1-modules>=0.2.1->google-auth<3,>=1.6.3->tensorboard<2.15,>=2.14->tensorflow-macos==2.14.0->tensorflow->-r requirements.txt (line 3)) (0.5.0)\n",
      "Requirement already satisfied: oauthlib>=3.0.0 in /opt/homebrew/lib/python3.11/site-packages (from requests-oauthlib>=0.7.0->google-auth-oauthlib<1.1,>=0.5->tensorboard<2.15,>=2.14->tensorflow-macos==2.14.0->tensorflow->-r requirements.txt (line 3)) (3.2.2)\n",
      "\n",
      "\u001b[1m[\u001b[0m\u001b[34;49mnotice\u001b[0m\u001b[1;39;49m]\u001b[0m\u001b[39;49m A new release of pip is available: \u001b[0m\u001b[31;49m23.2.1\u001b[0m\u001b[39;49m -> \u001b[0m\u001b[32;49m23.3.1\u001b[0m\n",
      "\u001b[1m[\u001b[0m\u001b[34;49mnotice\u001b[0m\u001b[1;39;49m]\u001b[0m\u001b[39;49m To update, run: \u001b[0m\u001b[32;49mpython3.11 -m pip install --upgrade pip\u001b[0m\n",
      "Note: you may need to restart the kernel to use updated packages.\n"
     ]
    }
   ],
   "source": [
    "%pip install -r requirements.txt"
   ]
  },
  {
   "cell_type": "markdown",
   "metadata": {},
   "source": [
    "## Import Data"
   ]
  },
  {
   "cell_type": "code",
   "execution_count": 28,
   "metadata": {},
   "outputs": [],
   "source": [
    "import pandas as pd\n",
    "import numpy as np\n",
    "\n",
    "# read csv file\n",
    "df = pd.read_csv('data-en-hi-de-fr.csv')"
   ]
  },
  {
   "cell_type": "code",
   "execution_count": 29,
   "metadata": {},
   "outputs": [
    {
     "name": "stderr",
     "output_type": "stream",
     "text": [
      "/var/folders/dm/l18067jn62qb3fkpng93sqhr0000gn/T/ipykernel_94214/3398426871.py:16: SettingWithCopyWarning: \n",
      "A value is trying to be set on a copy of a slice from a DataFrame\n",
      "\n",
      "See the caveats in the documentation: https://pandas.pydata.org/pandas-docs/stable/user_guide/indexing.html#returning-a-view-versus-a-copy\n",
      "  df.drop('labels', axis=1, inplace=True)\n",
      "/var/folders/dm/l18067jn62qb3fkpng93sqhr0000gn/T/ipykernel_94214/3398426871.py:17: SettingWithCopyWarning: \n",
      "A value is trying to be set on a copy of a slice from a DataFrame\n",
      "\n",
      "See the caveats in the documentation: https://pandas.pydata.org/pandas-docs/stable/user_guide/indexing.html#returning-a-view-versus-a-copy\n",
      "  df.rename(columns={'text': 'en', 'text_hi': 'hi',\n",
      "/var/folders/dm/l18067jn62qb3fkpng93sqhr0000gn/T/ipykernel_94214/3398426871.py:16: SettingWithCopyWarning: \n",
      "A value is trying to be set on a copy of a slice from a DataFrame\n",
      "\n",
      "See the caveats in the documentation: https://pandas.pydata.org/pandas-docs/stable/user_guide/indexing.html#returning-a-view-versus-a-copy\n",
      "  df.drop('labels', axis=1, inplace=True)\n",
      "/var/folders/dm/l18067jn62qb3fkpng93sqhr0000gn/T/ipykernel_94214/3398426871.py:17: SettingWithCopyWarning: \n",
      "A value is trying to be set on a copy of a slice from a DataFrame\n",
      "\n",
      "See the caveats in the documentation: https://pandas.pydata.org/pandas-docs/stable/user_guide/indexing.html#returning-a-view-versus-a-copy\n",
      "  df.rename(columns={'text': 'en', 'text_hi': 'hi',\n"
     ]
    }
   ],
   "source": [
    "from tensorflow.keras.utils import to_categorical\n",
    "\n",
    "# create a dictionary of the languages\n",
    "languages = {'en': 0, 'hi': 1, 'de': 2, 'fr': 3}\n",
    "\n",
    "# group the dataframe by labels column\n",
    "grouped = df.groupby('labels')\n",
    "\n",
    "# create two dataframes, one for ham and one for spam\n",
    "original_df = df\n",
    "ham_df = grouped.get_group('ham')\n",
    "spam_df = grouped.get_group('spam')\n",
    "\n",
    "\n",
    "def processDf(df):\n",
    "    df.drop('labels', axis=1, inplace=True)\n",
    "    df.rename(columns={'text': 'en', 'text_hi': 'hi',\n",
    "              'text_de': 'de', 'text_fr': 'fr'}, inplace=True)\n",
    "    df = df.melt(var_name='language', value_name='phrase')\n",
    "    df['language_code'] = df['language'].map(languages)\n",
    "    return df\n",
    "\n",
    "\n",
    "original_df = processDf(original_df)\n",
    "ham_df = processDf(ham_df)\n",
    "spam_df = processDf(spam_df)"
   ]
  },
  {
   "cell_type": "markdown",
   "metadata": {},
   "source": [
    "## Creating Functions"
   ]
  },
  {
   "cell_type": "markdown",
   "metadata": {},
   "source": [
    "### Embeddings"
   ]
  },
  {
   "cell_type": "code",
   "execution_count": 5,
   "metadata": {},
   "outputs": [],
   "source": [
    "\n",
    "# define a function to tokenize the phrases in each dataframe\n",
    "\n",
    "def tokenizeDf(df):\n",
    "    tokens = [phrase.split() for phrase in df['phrase']]\n",
    "    df['tokens'] = tokens\n",
    "    return df"
   ]
  },
  {
   "cell_type": "markdown",
   "metadata": {},
   "source": [
    "#### Word2Vec Embeddings"
   ]
  },
  {
   "cell_type": "code",
   "execution_count": 6,
   "metadata": {},
   "outputs": [],
   "source": [
    "import gensim\n",
    "from gensim.models import Word2Vec\n",
    "\n",
    "\n",
    "def addWord2VecEmbeddings(df):\n",
    "    # train the word2vec model on the ham and spam tokens\n",
    "    model = Word2Vec(df['tokens'], min_count=1)\n",
    "    # create the embeddings for each dataframe\n",
    "    df['w2v_embedding'] = df['tokens'].apply(\n",
    "        lambda x: model.wv[x].mean(axis=0).astype(np.float32))\n",
    "    return df"
   ]
  },
  {
   "cell_type": "markdown",
   "metadata": {},
   "source": [
    "#### Skip-Thought Embeddings"
   ]
  },
  {
   "cell_type": "code",
   "execution_count": null,
   "metadata": {},
   "outputs": [],
   "source": [
    "%%sh\n",
    "# Directory to download the pretrained models to.\n",
    "PRETRAINED_MODELS_DIR=\"./skip_thoughts/pretrained/\"\n",
    "\n",
    "mkdir -p ${PRETRAINED_MODELS_DIR}\n",
    "cd ${PRETRAINED_MODELS_DIR}\n",
    "\n",
    "# Download and extract the unidirectional model.\n",
    "wget \"http://download.tensorflow.org/models/skip_thoughts_uni_2017_02_02.tar.gz\"\n",
    "tar -xvf skip_thoughts_uni_2017_02_02.tar.gz\n",
    "rm skip_thoughts_uni_2017_02_02.tar.gz\n",
    "\n",
    "# Download and extract the bidirectional model.\n",
    "wget \"http://download.tensorflow.org/models/skip_thoughts_bi_2017_02_16.tar.gz\"\n",
    "tar -xvf skip_thoughts_bi_2017_02_16.tar.gz\n",
    "rm skip_thoughts_bi_2017_02_16.tar.gz"
   ]
  },
  {
   "cell_type": "code",
   "execution_count": 31,
   "metadata": {},
   "outputs": [
    {
     "ename": "SyntaxError",
     "evalue": "multiple exception types must be parenthesized (__init__.py, line 149)",
     "output_type": "error",
     "traceback": [
      "Traceback \u001b[0;36m(most recent call last)\u001b[0m:\n",
      "\u001b[0m  File \u001b[1;32m~/Library/Python/3.11/lib/python/site-packages/IPython/core/interactiveshell.py:3548\u001b[0m in \u001b[1;35mrun_code\u001b[0m\n    exec(code_obj, self.user_global_ns, self.user_ns)\u001b[0m\n",
      "\u001b[0m  Cell \u001b[1;32mIn[31], line 1\u001b[0m\n    import skipthoughts\u001b[0m\n",
      "\u001b[0;36m  File \u001b[0;32m~/Development/psyc40/comp-neuro-final-project/skipthoughts.py:8\u001b[0;36m\n\u001b[0;31m    import theano\u001b[0;36m\n",
      "\u001b[0;36m  File \u001b[0;32m/opt/homebrew/lib/python3.11/site-packages/theano/__init__.py:149\u001b[0;36m\u001b[0m\n\u001b[0;31m    except Exception, e0:\u001b[0m\n\u001b[0m           ^\u001b[0m\n\u001b[0;31mSyntaxError\u001b[0m\u001b[0;31m:\u001b[0m multiple exception types must be parenthesized\n"
     ]
    }
   ],
   "source": [
    "import skipthoughts\n",
    "\n",
    "\n",
    "def createSkipThoughtEmbeddings(df):\n",
    "    model = skipthoughts.load_model()\n",
    "    encoder = skipthoughts.Encoder(model)\n",
    "    df['skip_thought_embedding'] = df['tokens'].apply(\n",
    "        lambda x: encoder.encode(x).astype(np.float32))\n",
    "    return df"
   ]
  },
  {
   "cell_type": "markdown",
   "metadata": {},
   "source": [
    "### Train the Model"
   ]
  },
  {
   "cell_type": "markdown",
   "metadata": {},
   "source": [
    "#### Create Training and Testing Data Functions"
   ]
  },
  {
   "cell_type": "code",
   "execution_count": 8,
   "metadata": {},
   "outputs": [],
   "source": [
    "import tensorflow as tf\n",
    "from sklearn.model_selection import train_test_split\n",
    "\n",
    "listOfEmbeddings = ['w2v_embedding']\n",
    "\n",
    "# Create Training and Testing Data Functions\n",
    "\n",
    "\n",
    "def createTrainingTestingData(embeddingType, df):\n",
    "    if embeddingType not in listOfEmbeddings:\n",
    "        print('Invalid embedding type')\n",
    "        return\n",
    "\n",
    "    X = df[embeddingType]\n",
    "    y = df['language_code']\n",
    "\n",
    "    # create the training and testing dataframes\n",
    "    X_train, X_test, y_train, y_test = train_test_split(\n",
    "        X, y, test_size=0.2, random_state=42)\n",
    "\n",
    "    y_train_one_hot = to_categorical(y_train, 4)\n",
    "    y_test_one_hot = to_categorical(y_test, 4)\n",
    "\n",
    "    # convert the training and testing dataframes to numpy arrays\n",
    "    X_train = np.array([x for x in X_train])\n",
    "    X_test = np.array([x for x in X_test])\n",
    "    y_train = np.array([y for y in y_train_one_hot])\n",
    "    y_test = np.array([y for y in y_test_one_hot])\n",
    "\n",
    "    # reshape the training and testing dataframes\n",
    "    X_train = X_train.reshape(X_train.shape[0], 1, 100)\n",
    "    X_test = X_test.reshape(X_test.shape[0], 1, 100)\n",
    "\n",
    "    # Assuming X_train and y_train are NumPy arrays\n",
    "    X_train = tf.convert_to_tensor(X_train, dtype=tf.float32)\n",
    "    X_test = tf.convert_to_tensor(X_test, dtype=tf.float32)\n",
    "    y_train = tf.convert_to_tensor(y_train, dtype=tf.float32)\n",
    "    y_test = tf.convert_to_tensor(y_test, dtype=tf.float32)\n",
    "\n",
    "    return X_train, X_test, y_train, y_test"
   ]
  },
  {
   "cell_type": "markdown",
   "metadata": {},
   "source": [
    "#### Create Model Function"
   ]
  },
  {
   "cell_type": "code",
   "execution_count": 9,
   "metadata": {},
   "outputs": [],
   "source": [
    "from tensorflow import keras\n",
    "from tensorflow.keras import layers\n",
    "\n",
    "\n",
    "def createModel():\n",
    "    model = keras.Sequential()\n",
    "    model.add(layers.GRU(64, input_shape=(1, 100)))\n",
    "    model.add(layers.BatchNormalization())\n",
    "    model.add(layers.Dense(units=4, activation='softmax'))\n",
    "\n",
    "    model.compile(\n",
    "        loss='categorical_crossentropy',\n",
    "        optimizer=\"adam\",\n",
    "        metrics=[\"accuracy\"],\n",
    "    )\n",
    "    return model"
   ]
  },
  {
   "cell_type": "markdown",
   "metadata": {},
   "source": [
    "#### Fit the Model using Training Data Function"
   ]
  },
  {
   "cell_type": "code",
   "execution_count": 10,
   "metadata": {},
   "outputs": [],
   "source": [
    "def trainModel(model, X_train, y_train):\n",
    "    model.fit(\n",
    "        X_train, y_train, batch_size=64, epochs=10, verbose=2\n",
    "    )\n",
    "    return model"
   ]
  },
  {
   "cell_type": "markdown",
   "metadata": {},
   "source": [
    "### Test the Model"
   ]
  },
  {
   "cell_type": "markdown",
   "metadata": {},
   "source": [
    "#### Function to print ten random predictions"
   ]
  },
  {
   "cell_type": "code",
   "execution_count": 11,
   "metadata": {},
   "outputs": [],
   "source": [
    "def printTenPredictions(model, X_test, y_test):\n",
    "    for i in range(10):\n",
    "        result = tf.argmax(model.predict(tf.expand_dims(X_test[i], 0)), axis=1)\n",
    "        print(result.numpy(), y_test[i])"
   ]
  },
  {
   "cell_type": "markdown",
   "metadata": {},
   "source": [
    "### Evalute the Model"
   ]
  },
  {
   "cell_type": "code",
   "execution_count": 12,
   "metadata": {},
   "outputs": [],
   "source": [
    "import seaborn as sns\n",
    "import matplotlib.pyplot as plt\n",
    "from sklearn.metrics import confusion_matrix\n",
    "\n",
    "\n",
    "def evaluateModel(model, X_test, y_test):\n",
    "    y_pred = model.predict(X_test)\n",
    "\n",
    "    y_test = tf.argmax(y_test, axis=1)\n",
    "    y_pred = tf.argmax(y_pred, axis=1)\n",
    "\n",
    "    # Calculate the confusion matrix\n",
    "    cm = confusion_matrix(y_test, y_pred)\n",
    "\n",
    "    # Create a heatmap using seaborn\n",
    "    plt.figure(figsize=(8, 6))\n",
    "    sns.heatmap(cm, annot=True, fmt=\"d\", cmap=\"Blues\",\n",
    "                xticklabels=languages.keys(), yticklabels=languages.keys())\n",
    "    plt.title(\"Confusion Matrix\")\n",
    "    plt.xlabel(\"Predicted Label\")\n",
    "    plt.ylabel(\"True Label\")\n",
    "    plt.show()"
   ]
  },
  {
   "cell_type": "markdown",
   "metadata": {},
   "source": [
    "## Evaluate Model"
   ]
  },
  {
   "cell_type": "markdown",
   "metadata": {},
   "source": [
    "### Testing Different Embeddings"
   ]
  },
  {
   "cell_type": "markdown",
   "metadata": {},
   "source": [
    "#### Word2Vec"
   ]
  },
  {
   "cell_type": "code",
   "execution_count": 13,
   "metadata": {},
   "outputs": [],
   "source": [
    "def word2Vec(df):\n",
    "    df = tokenizeDf(df)\n",
    "    df = addWord2VecEmbeddings(df)\n",
    "    print(\"\\n* Training *\")\n",
    "    X_train, X_test, y_train, y_test = createTrainingTestingData(\n",
    "        'w2v_embedding', original_df)\n",
    "    model = createModel()\n",
    "    model = trainModel(model, X_train, y_train)\n",
    "    print(\"\\n* Testing *\")\n",
    "    evaluateModel(model, X_test, y_test)"
   ]
  },
  {
   "cell_type": "code",
   "execution_count": 14,
   "metadata": {},
   "outputs": [
    {
     "name": "stdout",
     "output_type": "stream",
     "text": [
      "********** Original **********\n",
      "\n",
      "* Training *\n",
      "Epoch 1/10\n",
      "279/279 - 1s - loss: 0.1644 - accuracy: 0.9425 - 1s/epoch - 5ms/step\n",
      "Epoch 2/10\n",
      "279/279 - 0s - loss: 0.1083 - accuracy: 0.9623 - 455ms/epoch - 2ms/step\n",
      "Epoch 3/10\n",
      "279/279 - 0s - loss: 0.1038 - accuracy: 0.9628 - 369ms/epoch - 1ms/step\n",
      "Epoch 4/10\n",
      "279/279 - 0s - loss: 0.0975 - accuracy: 0.9657 - 375ms/epoch - 1ms/step\n",
      "Epoch 5/10\n",
      "279/279 - 0s - loss: 0.0956 - accuracy: 0.9663 - 358ms/epoch - 1ms/step\n",
      "Epoch 6/10\n",
      "279/279 - 0s - loss: 0.0912 - accuracy: 0.9683 - 338ms/epoch - 1ms/step\n",
      "Epoch 7/10\n",
      "279/279 - 0s - loss: 0.0921 - accuracy: 0.9684 - 318ms/epoch - 1ms/step\n",
      "Epoch 8/10\n",
      "279/279 - 0s - loss: 0.0917 - accuracy: 0.9693 - 322ms/epoch - 1ms/step\n",
      "Epoch 9/10\n",
      "279/279 - 0s - loss: 0.0898 - accuracy: 0.9693 - 319ms/epoch - 1ms/step\n",
      "Epoch 10/10\n",
      "279/279 - 0s - loss: 0.0880 - accuracy: 0.9686 - 322ms/epoch - 1ms/step\n",
      "\n",
      "* Testing *\n",
      "140/140 [==============================] - 0s 526us/step\n"
     ]
    },
    {
     "data": {
      "image/png": "[encoded data removed]",
      "text/plain": [
       "<Figure size 800x600 with 2 Axes>"
      ]
     },
     "metadata": {},
     "output_type": "display_data"
    }
   ],
   "source": [
    "print('********** Original **********')\n",
    "word2Vec(original_df)"
   ]
  },
  {
   "cell_type": "code",
   "execution_count": 15,
   "metadata": {},
   "outputs": [
    {
     "name": "stdout",
     "output_type": "stream",
     "text": [
      "********** Ham **********\n",
      "\n",
      "* Training *\n",
      "Epoch 1/10\n",
      "279/279 - 1s - loss: 0.1755 - accuracy: 0.9445 - 1s/epoch - 4ms/step\n",
      "Epoch 2/10\n",
      "279/279 - 0s - loss: 0.1100 - accuracy: 0.9615 - 322ms/epoch - 1ms/step\n",
      "Epoch 3/10\n",
      "279/279 - 0s - loss: 0.1041 - accuracy: 0.9626 - 408ms/epoch - 1ms/step\n",
      "Epoch 4/10\n",
      "279/279 - 0s - loss: 0.0986 - accuracy: 0.9658 - 348ms/epoch - 1ms/step\n",
      "Epoch 5/10\n",
      "279/279 - 0s - loss: 0.0938 - accuracy: 0.9681 - 353ms/epoch - 1ms/step\n",
      "Epoch 6/10\n",
      "279/279 - 0s - loss: 0.0959 - accuracy: 0.9661 - 309ms/epoch - 1ms/step\n",
      "Epoch 7/10\n",
      "279/279 - 0s - loss: 0.0929 - accuracy: 0.9666 - 310ms/epoch - 1ms/step\n",
      "Epoch 8/10\n",
      "279/279 - 0s - loss: 0.0893 - accuracy: 0.9688 - 310ms/epoch - 1ms/step\n",
      "Epoch 9/10\n",
      "279/279 - 0s - loss: 0.0912 - accuracy: 0.9677 - 312ms/epoch - 1ms/step\n",
      "Epoch 10/10\n",
      "279/279 - 0s - loss: 0.0886 - accuracy: 0.9693 - 316ms/epoch - 1ms/step\n",
      "\n",
      "* Testing *\n",
      "140/140 [==============================] - 0s 522us/step\n"
     ]
    },
    {
     "data": {
      "image/png": "[encoded data removed]",
      "text/plain": [
       "<Figure size 800x600 with 2 Axes>"
      ]
     },
     "metadata": {},
     "output_type": "display_data"
    }
   ],
   "source": [
    "print('********** Ham **********')\n",
    "word2Vec(ham_df)"
   ]
  },
  {
   "cell_type": "code",
   "execution_count": 16,
   "metadata": {},
   "outputs": [
    {
     "name": "stdout",
     "output_type": "stream",
     "text": [
      "********** Spam **********\n",
      "\n",
      "* Training *\n",
      "Epoch 1/10\n",
      "279/279 - 1s - loss: 0.1610 - accuracy: 0.9464 - 1s/epoch - 4ms/step\n",
      "Epoch 2/10\n",
      "279/279 - 0s - loss: 0.1085 - accuracy: 0.9600 - 333ms/epoch - 1ms/step\n",
      "Epoch 3/10\n",
      "279/279 - 0s - loss: 0.1011 - accuracy: 0.9643 - 329ms/epoch - 1ms/step\n",
      "Epoch 4/10\n",
      "279/279 - 0s - loss: 0.0959 - accuracy: 0.9662 - 342ms/epoch - 1ms/step\n",
      "Epoch 5/10\n",
      "279/279 - 0s - loss: 0.0946 - accuracy: 0.9670 - 360ms/epoch - 1ms/step\n",
      "Epoch 6/10\n",
      "279/279 - 0s - loss: 0.0947 - accuracy: 0.9665 - 346ms/epoch - 1ms/step\n",
      "Epoch 7/10\n",
      "279/279 - 0s - loss: 0.0922 - accuracy: 0.9677 - 380ms/epoch - 1ms/step\n",
      "Epoch 8/10\n",
      "279/279 - 0s - loss: 0.0904 - accuracy: 0.9673 - 347ms/epoch - 1ms/step\n",
      "Epoch 9/10\n",
      "279/279 - 0s - loss: 0.0894 - accuracy: 0.9695 - 360ms/epoch - 1ms/step\n",
      "Epoch 10/10\n",
      "279/279 - 0s - loss: 0.0877 - accuracy: 0.9699 - 387ms/epoch - 1ms/step\n",
      "\n",
      "* Testing *\n",
      "140/140 [==============================] - 0s 872us/step\n"
     ]
    },
    {
     "data": {
      "image/png": "[encoded data removed]",
      "text/plain": [
       "<Figure size 800x600 with 2 Axes>"
      ]
     },
     "metadata": {},
     "output_type": "display_data"
    }
   ],
   "source": [
    "print('********** Spam **********')\n",
    "word2Vec(spam_df)"
   ]
  }
 ],
 "metadata": {
  "kernelspec": {
   "display_name": "Python 3",
   "language": "python",
   "name": "python3"
  },
  "language_info": {
   "codemirror_mode": {
    "name": "ipython",
    "version": 3
   },
   "file_extension": ".py",
   "mimetype": "text/x-python",
   "name": "python",
   "nbconvert_exporter": "python",
   "pygments_lexer": "ipython3",
   "version": "3.11.5"
  }
 },
 "nbformat": 4,
 "nbformat_minor": 2
}
