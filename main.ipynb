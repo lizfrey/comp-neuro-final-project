{
 "cells": [
  {
   "cell_type": "markdown",
   "metadata": {},
   "source": [
    "# Computational Neuroscience Final Project\n",
    "## Elizabeth Frey"
   ]
  },
  {
   "cell_type": "code",
   "execution_count": 71,
   "metadata": {},
   "outputs": [
    {
     "name": "stdout",
     "output_type": "stream",
     "text": [
      "Requirement already satisfied: numpy in /opt/homebrew/lib/python3.11/site-packages (from -r requirements.txt (line 1)) (1.26.1)\n",
      "Requirement already satisfied: pandas in /opt/homebrew/lib/python3.11/site-packages (from -r requirements.txt (line 2)) (2.1.2)\n",
      "Requirement already satisfied: tensorflow in /opt/homebrew/lib/python3.11/site-packages (from -r requirements.txt (line 3)) (2.14.0)\n",
      "Requirement already satisfied: gensim in /opt/homebrew/lib/python3.11/site-packages (from -r requirements.txt (line 4)) (4.3.2)\n",
      "Requirement already satisfied: scikit-learn in /opt/homebrew/lib/python3.11/site-packages (from -r requirements.txt (line 5)) (1.3.2)\n",
      "Requirement already satisfied: python-dateutil>=2.8.2 in /Users/elizabethfrey/Library/Python/3.11/lib/python/site-packages (from pandas->-r requirements.txt (line 2)) (2.8.2)\n",
      "Requirement already satisfied: pytz>=2020.1 in /opt/homebrew/lib/python3.11/site-packages (from pandas->-r requirements.txt (line 2)) (2023.3.post1)\n",
      "Requirement already satisfied: tzdata>=2022.1 in /opt/homebrew/lib/python3.11/site-packages (from pandas->-r requirements.txt (line 2)) (2023.3)\n",
      "Requirement already satisfied: tensorflow-macos==2.14.0 in /opt/homebrew/lib/python3.11/site-packages (from tensorflow->-r requirements.txt (line 3)) (2.14.0)\n",
      "Requirement already satisfied: absl-py>=1.0.0 in /opt/homebrew/lib/python3.11/site-packages (from tensorflow-macos==2.14.0->tensorflow->-r requirements.txt (line 3)) (2.0.0)\n",
      "Requirement already satisfied: astunparse>=1.6.0 in /opt/homebrew/lib/python3.11/site-packages (from tensorflow-macos==2.14.0->tensorflow->-r requirements.txt (line 3)) (1.6.3)\n",
      "Requirement already satisfied: flatbuffers>=23.5.26 in /opt/homebrew/lib/python3.11/site-packages (from tensorflow-macos==2.14.0->tensorflow->-r requirements.txt (line 3)) (23.5.26)\n",
      "Requirement already satisfied: gast!=0.5.0,!=0.5.1,!=0.5.2,>=0.2.1 in /opt/homebrew/lib/python3.11/site-packages (from tensorflow-macos==2.14.0->tensorflow->-r requirements.txt (line 3)) (0.5.4)\n",
      "Requirement already satisfied: google-pasta>=0.1.1 in /opt/homebrew/lib/python3.11/site-packages (from tensorflow-macos==2.14.0->tensorflow->-r requirements.txt (line 3)) (0.2.0)\n",
      "Requirement already satisfied: h5py>=2.9.0 in /opt/homebrew/lib/python3.11/site-packages (from tensorflow-macos==2.14.0->tensorflow->-r requirements.txt (line 3)) (3.10.0)\n",
      "Requirement already satisfied: libclang>=13.0.0 in /opt/homebrew/lib/python3.11/site-packages (from tensorflow-macos==2.14.0->tensorflow->-r requirements.txt (line 3)) (16.0.6)\n",
      "Requirement already satisfied: ml-dtypes==0.2.0 in /opt/homebrew/lib/python3.11/site-packages (from tensorflow-macos==2.14.0->tensorflow->-r requirements.txt (line 3)) (0.2.0)\n",
      "Requirement already satisfied: opt-einsum>=2.3.2 in /opt/homebrew/lib/python3.11/site-packages (from tensorflow-macos==2.14.0->tensorflow->-r requirements.txt (line 3)) (3.3.0)\n",
      "Requirement already satisfied: packaging in /Users/elizabethfrey/Library/Python/3.11/lib/python/site-packages (from tensorflow-macos==2.14.0->tensorflow->-r requirements.txt (line 3)) (23.2)\n",
      "Requirement already satisfied: protobuf!=4.21.0,!=4.21.1,!=4.21.2,!=4.21.3,!=4.21.4,!=4.21.5,<5.0.0dev,>=3.20.3 in /opt/homebrew/lib/python3.11/site-packages (from tensorflow-macos==2.14.0->tensorflow->-r requirements.txt (line 3)) (4.25.0)\n",
      "Requirement already satisfied: setuptools in /opt/homebrew/lib/python3.11/site-packages (from tensorflow-macos==2.14.0->tensorflow->-r requirements.txt (line 3)) (68.1.2)\n",
      "Requirement already satisfied: six>=1.12.0 in /Users/elizabethfrey/Library/Python/3.11/lib/python/site-packages (from tensorflow-macos==2.14.0->tensorflow->-r requirements.txt (line 3)) (1.16.0)\n",
      "Requirement already satisfied: termcolor>=1.1.0 in /opt/homebrew/lib/python3.11/site-packages (from tensorflow-macos==2.14.0->tensorflow->-r requirements.txt (line 3)) (2.3.0)\n",
      "Requirement already satisfied: typing-extensions>=3.6.6 in /opt/homebrew/lib/python3.11/site-packages (from tensorflow-macos==2.14.0->tensorflow->-r requirements.txt (line 3)) (4.8.0)\n",
      "Requirement already satisfied: wrapt<1.15,>=1.11.0 in /opt/homebrew/lib/python3.11/site-packages (from tensorflow-macos==2.14.0->tensorflow->-r requirements.txt (line 3)) (1.14.1)\n",
      "Requirement already satisfied: tensorflow-io-gcs-filesystem>=0.23.1 in /opt/homebrew/lib/python3.11/site-packages (from tensorflow-macos==2.14.0->tensorflow->-r requirements.txt (line 3)) (0.34.0)\n",
      "Requirement already satisfied: grpcio<2.0,>=1.24.3 in /opt/homebrew/lib/python3.11/site-packages (from tensorflow-macos==2.14.0->tensorflow->-r requirements.txt (line 3)) (1.59.2)\n",
      "Requirement already satisfied: tensorboard<2.15,>=2.14 in /opt/homebrew/lib/python3.11/site-packages (from tensorflow-macos==2.14.0->tensorflow->-r requirements.txt (line 3)) (2.14.1)\n",
      "Requirement already satisfied: tensorflow-estimator<2.15,>=2.14.0 in /opt/homebrew/lib/python3.11/site-packages (from tensorflow-macos==2.14.0->tensorflow->-r requirements.txt (line 3)) (2.14.0)\n",
      "Requirement already satisfied: keras<2.15,>=2.14.0 in /opt/homebrew/lib/python3.11/site-packages (from tensorflow-macos==2.14.0->tensorflow->-r requirements.txt (line 3)) (2.14.0)\n",
      "Requirement already satisfied: scipy>=1.7.0 in /opt/homebrew/lib/python3.11/site-packages (from gensim->-r requirements.txt (line 4)) (1.11.3)\n",
      "Requirement already satisfied: smart-open>=1.8.1 in /opt/homebrew/lib/python3.11/site-packages (from gensim->-r requirements.txt (line 4)) (6.4.0)\n",
      "Requirement already satisfied: joblib>=1.1.1 in /opt/homebrew/lib/python3.11/site-packages (from scikit-learn->-r requirements.txt (line 5)) (1.3.2)\n",
      "Requirement already satisfied: threadpoolctl>=2.0.0 in /opt/homebrew/lib/python3.11/site-packages (from scikit-learn->-r requirements.txt (line 5)) (3.2.0)\n",
      "Requirement already satisfied: wheel<1.0,>=0.23.0 in /opt/homebrew/lib/python3.11/site-packages (from astunparse>=1.6.0->tensorflow-macos==2.14.0->tensorflow->-r requirements.txt (line 3)) (0.41.2)\n",
      "Requirement already satisfied: google-auth<3,>=1.6.3 in /opt/homebrew/lib/python3.11/site-packages (from tensorboard<2.15,>=2.14->tensorflow-macos==2.14.0->tensorflow->-r requirements.txt (line 3)) (2.23.4)\n",
      "Requirement already satisfied: google-auth-oauthlib<1.1,>=0.5 in /opt/homebrew/lib/python3.11/site-packages (from tensorboard<2.15,>=2.14->tensorflow-macos==2.14.0->tensorflow->-r requirements.txt (line 3)) (1.0.0)\n",
      "Requirement already satisfied: markdown>=2.6.8 in /opt/homebrew/lib/python3.11/site-packages (from tensorboard<2.15,>=2.14->tensorflow-macos==2.14.0->tensorflow->-r requirements.txt (line 3)) (3.5.1)\n",
      "Requirement already satisfied: requests<3,>=2.21.0 in /opt/homebrew/lib/python3.11/site-packages (from tensorboard<2.15,>=2.14->tensorflow-macos==2.14.0->tensorflow->-r requirements.txt (line 3)) (2.31.0)\n",
      "Requirement already satisfied: tensorboard-data-server<0.8.0,>=0.7.0 in /opt/homebrew/lib/python3.11/site-packages (from tensorboard<2.15,>=2.14->tensorflow-macos==2.14.0->tensorflow->-r requirements.txt (line 3)) (0.7.2)\n",
      "Requirement already satisfied: werkzeug>=1.0.1 in /opt/homebrew/lib/python3.11/site-packages (from tensorboard<2.15,>=2.14->tensorflow-macos==2.14.0->tensorflow->-r requirements.txt (line 3)) (3.0.1)\n",
      "Requirement already satisfied: cachetools<6.0,>=2.0.0 in /opt/homebrew/lib/python3.11/site-packages (from google-auth<3,>=1.6.3->tensorboard<2.15,>=2.14->tensorflow-macos==2.14.0->tensorflow->-r requirements.txt (line 3)) (5.3.2)\n",
      "Requirement already satisfied: pyasn1-modules>=0.2.1 in /opt/homebrew/lib/python3.11/site-packages (from google-auth<3,>=1.6.3->tensorboard<2.15,>=2.14->tensorflow-macos==2.14.0->tensorflow->-r requirements.txt (line 3)) (0.3.0)\n",
      "Requirement already satisfied: rsa<5,>=3.1.4 in /opt/homebrew/lib/python3.11/site-packages (from google-auth<3,>=1.6.3->tensorboard<2.15,>=2.14->tensorflow-macos==2.14.0->tensorflow->-r requirements.txt (line 3)) (4.9)\n",
      "Requirement already satisfied: requests-oauthlib>=0.7.0 in /opt/homebrew/lib/python3.11/site-packages (from google-auth-oauthlib<1.1,>=0.5->tensorboard<2.15,>=2.14->tensorflow-macos==2.14.0->tensorflow->-r requirements.txt (line 3)) (1.3.1)\n",
      "Requirement already satisfied: charset-normalizer<4,>=2 in /opt/homebrew/lib/python3.11/site-packages (from requests<3,>=2.21.0->tensorboard<2.15,>=2.14->tensorflow-macos==2.14.0->tensorflow->-r requirements.txt (line 3)) (3.3.2)\n",
      "Requirement already satisfied: idna<4,>=2.5 in /opt/homebrew/lib/python3.11/site-packages (from requests<3,>=2.21.0->tensorboard<2.15,>=2.14->tensorflow-macos==2.14.0->tensorflow->-r requirements.txt (line 3)) (3.4)\n",
      "Requirement already satisfied: urllib3<3,>=1.21.1 in /opt/homebrew/lib/python3.11/site-packages (from requests<3,>=2.21.0->tensorboard<2.15,>=2.14->tensorflow-macos==2.14.0->tensorflow->-r requirements.txt (line 3)) (2.0.7)\n",
      "Requirement already satisfied: certifi>=2017.4.17 in /opt/homebrew/lib/python3.11/site-packages (from requests<3,>=2.21.0->tensorboard<2.15,>=2.14->tensorflow-macos==2.14.0->tensorflow->-r requirements.txt (line 3)) (2023.7.22)\n",
      "Requirement already satisfied: MarkupSafe>=2.1.1 in /opt/homebrew/lib/python3.11/site-packages (from werkzeug>=1.0.1->tensorboard<2.15,>=2.14->tensorflow-macos==2.14.0->tensorflow->-r requirements.txt (line 3)) (2.1.3)\n",
      "Requirement already satisfied: pyasn1<0.6.0,>=0.4.6 in /opt/homebrew/lib/python3.11/site-packages (from pyasn1-modules>=0.2.1->google-auth<3,>=1.6.3->tensorboard<2.15,>=2.14->tensorflow-macos==2.14.0->tensorflow->-r requirements.txt (line 3)) (0.5.0)\n",
      "Requirement already satisfied: oauthlib>=3.0.0 in /opt/homebrew/lib/python3.11/site-packages (from requests-oauthlib>=0.7.0->google-auth-oauthlib<1.1,>=0.5->tensorboard<2.15,>=2.14->tensorflow-macos==2.14.0->tensorflow->-r requirements.txt (line 3)) (3.2.2)\n",
      "\n",
      "\u001b[1m[\u001b[0m\u001b[34;49mnotice\u001b[0m\u001b[1;39;49m]\u001b[0m\u001b[39;49m A new release of pip is available: \u001b[0m\u001b[31;49m23.2.1\u001b[0m\u001b[39;49m -> \u001b[0m\u001b[32;49m23.3.1\u001b[0m\n",
      "\u001b[1m[\u001b[0m\u001b[34;49mnotice\u001b[0m\u001b[1;39;49m]\u001b[0m\u001b[39;49m To update, run: \u001b[0m\u001b[32;49mpython3.11 -m pip install --upgrade pip\u001b[0m\n",
      "Note: you may need to restart the kernel to use updated packages.\n"
     ]
    }
   ],
   "source": [
    "%pip install -r requirements.txt"
   ]
  },
  {
   "cell_type": "markdown",
   "metadata": {},
   "source": [
    "## Import Data"
   ]
  },
  {
   "cell_type": "code",
   "execution_count": 1,
   "metadata": {},
   "outputs": [],
   "source": [
    "import pandas as pd\n",
    "import numpy as np\n",
    "\n",
    "# read csv file\n",
    "df = pd.read_csv('data-en-hi-de-fr.csv')"
   ]
  },
  {
   "cell_type": "code",
   "execution_count": 40,
   "metadata": {},
   "outputs": [],
   "source": [
    "from tensorflow.keras.utils import to_categorical\n",
    "\n",
    "# remove any rows with null values\n",
    "df.dropna(inplace=True)\n",
    "\n",
    "# group the dataframe by labels column\n",
    "grouped = df.groupby('labels')\n",
    "\n",
    "# create two dataframes, one for ham and one for spam\n",
    "ham_df = grouped.get_group('ham')\n",
    "spam_df = grouped.get_group('spam')\n",
    "ham_df = ham_df.drop('labels', axis=1)\n",
    "spam_df = spam_df.drop('labels', axis=1)\n",
    "\n",
    "# pivot the data so that each row is a phrase in a language\n",
    "ham_df = ham_df.rename(\n",
    "    columns={'text': 'en', 'text_hi': 'hi', 'text_de': 'de', 'text_fr': 'fr'})\n",
    "ham_df = ham_df.melt(var_name='language', value_name='phrase')\n",
    "spam_df = spam_df.rename(\n",
    "    columns={'text': 'en', 'text_hi': 'hi', 'text_de': 'de', 'text_fr': 'fr'})\n",
    "spam_df = spam_df.melt(var_name='language', value_name='phrase')\n",
    "\n",
    "# create a dictionary of the languages\n",
    "languages = {'en': 0, 'hi': 1, 'de': 2, 'fr': 3}\n",
    "\n",
    "# convert the languages to numbers\n",
    "ham_df['language_code'] = ham_df['language'].map(languages)\n",
    "spam_df['language_code'] = spam_df['language'].map(languages)\n",
    "\n",
    "# # one hot encode the languages using to categorical\n",
    "# # this is taken from project part 1\n",
    "\n",
    "\n",
    "# def one_hot(i):\n",
    "#     one_hot_encoded = np.array([0]*4)\n",
    "#     one_hot_encoded[i-1] = 1\n",
    "#     return np.array(one_hot_encoded)\n",
    "\n",
    "\n",
    "# ham_df['language_one_hot'] = ham_df['language_code'].apply(one_hot)\n",
    "# spam_df['language_one_hot'] = spam_df['language_code'].apply(one_hot)"
   ]
  },
  {
   "cell_type": "markdown",
   "metadata": {},
   "source": [
    "## Embeddings\n",
    "\n",
    "Creates functions to test out differente embeddings."
   ]
  },
  {
   "cell_type": "code",
   "execution_count": 41,
   "metadata": {},
   "outputs": [],
   "source": [
    "# define a function to tokenize the phrases in each dataframe\n",
    "\n",
    "\n",
    "def tokenize(df):\n",
    "    return [phrase.split() for phrase in df['phrase']]\n",
    "\n",
    "\n",
    "# tokenize the phrases in each dataframe\n",
    "ham_tokens = tokenize(ham_df)\n",
    "spam_tokens = tokenize(spam_df)\n",
    "\n",
    "ham_df['tokens'] = ham_tokens\n",
    "spam_df['tokens'] = spam_tokens"
   ]
  },
  {
   "cell_type": "markdown",
   "metadata": {},
   "source": [
    "### Word2Vec Embeddings"
   ]
  },
  {
   "cell_type": "code",
   "execution_count": 42,
   "metadata": {},
   "outputs": [],
   "source": [
    "import gensim\n",
    "from gensim.models import Word2Vec\n",
    "\n",
    "\n",
    "# train the word2vec model on the ham and spam tokens\n",
    "model = Word2Vec(ham_tokens + spam_tokens, min_count=1)\n",
    "\n",
    "# create the embeddings for each dataframe\n",
    "ham_df['w2v_embedding'] = ham_df['tokens'].apply(\n",
    "    lambda x: model.wv[x].mean(axis=0).astype(np.float32))\n",
    "spam_df['w2v_embedding'] = spam_df['tokens'].apply(\n",
    "    lambda x: model.wv[x].mean(axis=0).astype(np.float32))"
   ]
  },
  {
   "cell_type": "markdown",
   "metadata": {},
   "source": [
    "## Train the Model"
   ]
  },
  {
   "cell_type": "code",
   "execution_count": 89,
   "metadata": {},
   "outputs": [],
   "source": [
    "# create training and testing datasets from the ham and spam dataframes\n",
    "from sklearn.model_selection import train_test_split\n",
    "\n",
    "X = pd.concat([ham_df['w2v_embedding'], spam_df['w2v_embedding']])\n",
    "y = pd.concat([ham_df['language_code'], spam_df['language_code']])\n",
    "\n",
    "X_train, X_test, y_train, y_test = train_test_split(\n",
    "    X, y, test_size=0.2, random_state=42)\n",
    "\n",
    "y_train_one_hot = to_categorical(y_train, 4)\n",
    "y_test_one_hot = to_categorical(y_test, 4)\n",
    "\n",
    "# convert the training and testing dataframes to numpy arrays\n",
    "X_train = np.array([x for x in X_train])\n",
    "X_test = np.array([x for x in X_test])\n",
    "y_train = np.array([y for y in y_train_one_hot])\n",
    "y_test = np.array([y for y in y_test_one_hot])\n",
    "\n",
    "# reshape the training and testing dataframes\n",
    "X_train = X_train.reshape(X_train.shape[0], 1, 100)\n",
    "X_test = X_test.reshape(X_test.shape[0], 1, 100)"
   ]
  },
  {
   "cell_type": "code",
   "execution_count": 84,
   "metadata": {},
   "outputs": [
    {
     "name": "stdout",
     "output_type": "stream",
     "text": [
      "Model: \"sequential_19\"\n",
      "_________________________________________________________________\n",
      " Layer (type)                Output Shape              Param #   \n",
      "=================================================================\n",
      " gru_19 (GRU)                (None, 64)                31872     \n",
      "                                                                 \n",
      " batch_normalization_17 (Ba  (None, 64)                256       \n",
      " tchNormalization)                                               \n",
      "                                                                 \n",
      " dense_17 (Dense)            (None, 4)                 260       \n",
      "                                                                 \n",
      "=================================================================\n",
      "Total params: 32388 (126.52 KB)\n",
      "Trainable params: 32260 (126.02 KB)\n",
      "Non-trainable params: 128 (512.00 Byte)\n",
      "_________________________________________________________________\n"
     ]
    }
   ],
   "source": [
    "import tensorflow as tf\n",
    "from tensorflow import keras\n",
    "from tensorflow.keras import layers\n",
    "\n",
    "model = keras.Sequential()\n",
    "model.add(layers.GRU(64, input_shape=(1, 100)))\n",
    "model.add(layers.BatchNormalization())\n",
    "model.add(layers.Dense(units=4, activation='softmax'))\n",
    "\n",
    "model.compile(\n",
    "    loss='categorical_crossentropy',\n",
    "    optimizer=\"adam\",\n",
    "    metrics=[\"accuracy\"],\n",
    ")\n",
    "\n",
    "# Display the model summary\n",
    "model.summary()"
   ]
  },
  {
   "cell_type": "code",
   "execution_count": 85,
   "metadata": {},
   "outputs": [
    {
     "name": "stdout",
     "output_type": "stream",
     "text": [
      "(17830, 1, 100)\n",
      "(17830, 4)\n",
      "Epoch 1/10\n",
      "279/279 [==============================] - 1s 1ms/step - loss: 0.1416 - accuracy: 0.9520\n",
      "Epoch 2/10\n",
      "279/279 [==============================] - 0s 1ms/step - loss: 0.0957 - accuracy: 0.9662\n",
      "Epoch 3/10\n",
      "279/279 [==============================] - 0s 1ms/step - loss: 0.0906 - accuracy: 0.9678\n",
      "Epoch 4/10\n",
      "279/279 [==============================] - 0s 1ms/step - loss: 0.0875 - accuracy: 0.9707\n",
      "Epoch 5/10\n",
      "279/279 [==============================] - 0s 1ms/step - loss: 0.0840 - accuracy: 0.9711\n",
      "Epoch 6/10\n",
      "279/279 [==============================] - 0s 1ms/step - loss: 0.0824 - accuracy: 0.9731\n",
      "Epoch 7/10\n",
      "279/279 [==============================] - 0s 1ms/step - loss: 0.0805 - accuracy: 0.9725\n",
      "Epoch 8/10\n",
      "279/279 [==============================] - 0s 1ms/step - loss: 0.0809 - accuracy: 0.9726\n",
      "Epoch 9/10\n",
      "279/279 [==============================] - 0s 1ms/step - loss: 0.0786 - accuracy: 0.9735\n",
      "Epoch 10/10\n",
      "279/279 [==============================] - 0s 1ms/step - loss: 0.0792 - accuracy: 0.9740\n"
     ]
    },
    {
     "data": {
      "text/plain": [
       "<keras.src.callbacks.History at 0x2ce05e250>"
      ]
     },
     "execution_count": 85,
     "metadata": {},
     "output_type": "execute_result"
    }
   ],
   "source": [
    "tf.debugging.disable_traceback_filtering()\n",
    "\n",
    "# Assuming X_train and y_train are NumPy arrays\n",
    "X_train_tensor = tf.convert_to_tensor(X_train, dtype=tf.float32)\n",
    "y_train_tensor = tf.convert_to_tensor(y_train, dtype=tf.float32)\n",
    "\n",
    "print(X_train_tensor.shape)\n",
    "print(y_train_tensor.shape)\n",
    "\n",
    "\n",
    "model.fit(\n",
    "    X_train_tensor, y_train_tensor, batch_size=64, epochs=10\n",
    ")"
   ]
  },
  {
   "cell_type": "code",
   "execution_count": 86,
   "metadata": {},
   "outputs": [
    {
     "name": "stdout",
     "output_type": "stream",
     "text": [
      "1/1 [==============================] - 0s 190ms/step\n",
      "[1] [0. 0. 1. 0.]\n",
      "1/1 [==============================] - 0s 11ms/step\n",
      "[2] [0. 0. 0. 1.]\n",
      "1/1 [==============================] - 0s 11ms/step\n",
      "[2] [0. 0. 1. 0.]\n",
      "1/1 [==============================] - 0s 11ms/step\n",
      "[1] [0. 0. 1. 0.]\n",
      "1/1 [==============================] - 0s 10ms/step\n",
      "[1] [0. 1. 0. 0.]\n",
      "1/1 [==============================] - 0s 10ms/step\n",
      "[0] [0. 1. 0. 0.]\n",
      "1/1 [==============================] - 0s 11ms/step\n",
      "[2] [0. 1. 0. 0.]\n",
      "1/1 [==============================] - 0s 11ms/step\n",
      "[0] [0. 0. 1. 0.]\n",
      "1/1 [==============================] - 0s 10ms/step\n",
      "[1] [0. 1. 0. 0.]\n",
      "1/1 [==============================] - 0s 11ms/step\n",
      "[0] [0. 1. 0. 0.]\n"
     ]
    }
   ],
   "source": [
    "for i in range(10):\n",
    "    result = tf.argmax(model.predict(tf.expand_dims(X_test[i], 0)), axis=1)\n",
    "    print(result.numpy(), y_test[i])"
   ]
  },
  {
   "cell_type": "code",
   "execution_count": 91,
   "metadata": {},
   "outputs": [
    {
     "name": "stdout",
     "output_type": "stream",
     "text": [
      "(4458, 1, 100)\n",
      "(4458, 4)\n",
      "  1/140 [..............................] - ETA: 1s - loss: 0.0642 - accuracy: 0.9688"
     ]
    },
    {
     "name": "stdout",
     "output_type": "stream",
     "text": [
      "140/140 [==============================] - 0s 611us/step - loss: 0.0728 - accuracy: 0.9755\n"
     ]
    },
    {
     "data": {
      "text/plain": [
       "[0.07282949984073639, 0.975549578666687]"
      ]
     },
     "execution_count": 91,
     "metadata": {},
     "output_type": "execute_result"
    }
   ],
   "source": [
    "# Assuming X_test and y_test are NumPy arrays\n",
    "X_test_tensor = tf.convert_to_tensor(X_test, dtype=tf.float32)\n",
    "y_test_tensor = tf.convert_to_tensor(y_test, dtype=tf.float32)\n",
    "\n",
    "print(X_test_tensor.shape)\n",
    "print(y_test_tensor.shape)\n",
    "\n",
    "model.evaluate(X_test_tensor, y_test_tensor)"
   ]
  }
 ],
 "metadata": {
  "kernelspec": {
   "display_name": "Python 3",
   "language": "python",
   "name": "python3"
  },
  "language_info": {
   "codemirror_mode": {
    "name": "ipython",
    "version": 3
   },
   "file_extension": ".py",
   "mimetype": "text/x-python",
   "name": "python",
   "nbconvert_exporter": "python",
   "pygments_lexer": "ipython3",
   "version": "3.11.5"
  }
 },
 "nbformat": 4,
 "nbformat_minor": 2
}
