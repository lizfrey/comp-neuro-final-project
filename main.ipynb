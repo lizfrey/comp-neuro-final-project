{
 "cells": [
  {
   "cell_type": "markdown",
   "metadata": {},
   "source": [
    "# Computational Neuroscience Final Project\n",
    "## Elizabeth Frey"
   ]
  },
  {
   "cell_type": "code",
   "execution_count": 71,
   "metadata": {},
   "outputs": [
    {
     "name": "stdout",
     "output_type": "stream",
     "text": [
      "Requirement already satisfied: numpy in /opt/homebrew/lib/python3.11/site-packages (from -r requirements.txt (line 1)) (1.26.1)\n",
      "Requirement already satisfied: pandas in /opt/homebrew/lib/python3.11/site-packages (from -r requirements.txt (line 2)) (2.1.2)\n",
      "Requirement already satisfied: tensorflow in /opt/homebrew/lib/python3.11/site-packages (from -r requirements.txt (line 3)) (2.14.0)\n",
      "Requirement already satisfied: gensim in /opt/homebrew/lib/python3.11/site-packages (from -r requirements.txt (line 4)) (4.3.2)\n",
      "Requirement already satisfied: scikit-learn in /opt/homebrew/lib/python3.11/site-packages (from -r requirements.txt (line 5)) (1.3.2)\n",
      "Requirement already satisfied: python-dateutil>=2.8.2 in /Users/elizabethfrey/Library/Python/3.11/lib/python/site-packages (from pandas->-r requirements.txt (line 2)) (2.8.2)\n",
      "Requirement already satisfied: pytz>=2020.1 in /opt/homebrew/lib/python3.11/site-packages (from pandas->-r requirements.txt (line 2)) (2023.3.post1)\n",
      "Requirement already satisfied: tzdata>=2022.1 in /opt/homebrew/lib/python3.11/site-packages (from pandas->-r requirements.txt (line 2)) (2023.3)\n",
      "Requirement already satisfied: tensorflow-macos==2.14.0 in /opt/homebrew/lib/python3.11/site-packages (from tensorflow->-r requirements.txt (line 3)) (2.14.0)\n",
      "Requirement already satisfied: absl-py>=1.0.0 in /opt/homebrew/lib/python3.11/site-packages (from tensorflow-macos==2.14.0->tensorflow->-r requirements.txt (line 3)) (2.0.0)\n",
      "Requirement already satisfied: astunparse>=1.6.0 in /opt/homebrew/lib/python3.11/site-packages (from tensorflow-macos==2.14.0->tensorflow->-r requirements.txt (line 3)) (1.6.3)\n",
      "Requirement already satisfied: flatbuffers>=23.5.26 in /opt/homebrew/lib/python3.11/site-packages (from tensorflow-macos==2.14.0->tensorflow->-r requirements.txt (line 3)) (23.5.26)\n",
      "Requirement already satisfied: gast!=0.5.0,!=0.5.1,!=0.5.2,>=0.2.1 in /opt/homebrew/lib/python3.11/site-packages (from tensorflow-macos==2.14.0->tensorflow->-r requirements.txt (line 3)) (0.5.4)\n",
      "Requirement already satisfied: google-pasta>=0.1.1 in /opt/homebrew/lib/python3.11/site-packages (from tensorflow-macos==2.14.0->tensorflow->-r requirements.txt (line 3)) (0.2.0)\n",
      "Requirement already satisfied: h5py>=2.9.0 in /opt/homebrew/lib/python3.11/site-packages (from tensorflow-macos==2.14.0->tensorflow->-r requirements.txt (line 3)) (3.10.0)\n",
      "Requirement already satisfied: libclang>=13.0.0 in /opt/homebrew/lib/python3.11/site-packages (from tensorflow-macos==2.14.0->tensorflow->-r requirements.txt (line 3)) (16.0.6)\n",
      "Requirement already satisfied: ml-dtypes==0.2.0 in /opt/homebrew/lib/python3.11/site-packages (from tensorflow-macos==2.14.0->tensorflow->-r requirements.txt (line 3)) (0.2.0)\n",
      "Requirement already satisfied: opt-einsum>=2.3.2 in /opt/homebrew/lib/python3.11/site-packages (from tensorflow-macos==2.14.0->tensorflow->-r requirements.txt (line 3)) (3.3.0)\n",
      "Requirement already satisfied: packaging in /Users/elizabethfrey/Library/Python/3.11/lib/python/site-packages (from tensorflow-macos==2.14.0->tensorflow->-r requirements.txt (line 3)) (23.2)\n",
      "Requirement already satisfied: protobuf!=4.21.0,!=4.21.1,!=4.21.2,!=4.21.3,!=4.21.4,!=4.21.5,<5.0.0dev,>=3.20.3 in /opt/homebrew/lib/python3.11/site-packages (from tensorflow-macos==2.14.0->tensorflow->-r requirements.txt (line 3)) (4.25.0)\n",
      "Requirement already satisfied: setuptools in /opt/homebrew/lib/python3.11/site-packages (from tensorflow-macos==2.14.0->tensorflow->-r requirements.txt (line 3)) (68.1.2)\n",
      "Requirement already satisfied: six>=1.12.0 in /Users/elizabethfrey/Library/Python/3.11/lib/python/site-packages (from tensorflow-macos==2.14.0->tensorflow->-r requirements.txt (line 3)) (1.16.0)\n",
      "Requirement already satisfied: termcolor>=1.1.0 in /opt/homebrew/lib/python3.11/site-packages (from tensorflow-macos==2.14.0->tensorflow->-r requirements.txt (line 3)) (2.3.0)\n",
      "Requirement already satisfied: typing-extensions>=3.6.6 in /opt/homebrew/lib/python3.11/site-packages (from tensorflow-macos==2.14.0->tensorflow->-r requirements.txt (line 3)) (4.8.0)\n",
      "Requirement already satisfied: wrapt<1.15,>=1.11.0 in /opt/homebrew/lib/python3.11/site-packages (from tensorflow-macos==2.14.0->tensorflow->-r requirements.txt (line 3)) (1.14.1)\n",
      "Requirement already satisfied: tensorflow-io-gcs-filesystem>=0.23.1 in /opt/homebrew/lib/python3.11/site-packages (from tensorflow-macos==2.14.0->tensorflow->-r requirements.txt (line 3)) (0.34.0)\n",
      "Requirement already satisfied: grpcio<2.0,>=1.24.3 in /opt/homebrew/lib/python3.11/site-packages (from tensorflow-macos==2.14.0->tensorflow->-r requirements.txt (line 3)) (1.59.2)\n",
      "Requirement already satisfied: tensorboard<2.15,>=2.14 in /opt/homebrew/lib/python3.11/site-packages (from tensorflow-macos==2.14.0->tensorflow->-r requirements.txt (line 3)) (2.14.1)\n",
      "Requirement already satisfied: tensorflow-estimator<2.15,>=2.14.0 in /opt/homebrew/lib/python3.11/site-packages (from tensorflow-macos==2.14.0->tensorflow->-r requirements.txt (line 3)) (2.14.0)\n",
      "Requirement already satisfied: keras<2.15,>=2.14.0 in /opt/homebrew/lib/python3.11/site-packages (from tensorflow-macos==2.14.0->tensorflow->-r requirements.txt (line 3)) (2.14.0)\n",
      "Requirement already satisfied: scipy>=1.7.0 in /opt/homebrew/lib/python3.11/site-packages (from gensim->-r requirements.txt (line 4)) (1.11.3)\n",
      "Requirement already satisfied: smart-open>=1.8.1 in /opt/homebrew/lib/python3.11/site-packages (from gensim->-r requirements.txt (line 4)) (6.4.0)\n",
      "Requirement already satisfied: joblib>=1.1.1 in /opt/homebrew/lib/python3.11/site-packages (from scikit-learn->-r requirements.txt (line 5)) (1.3.2)\n",
      "Requirement already satisfied: threadpoolctl>=2.0.0 in /opt/homebrew/lib/python3.11/site-packages (from scikit-learn->-r requirements.txt (line 5)) (3.2.0)\n",
      "Requirement already satisfied: wheel<1.0,>=0.23.0 in /opt/homebrew/lib/python3.11/site-packages (from astunparse>=1.6.0->tensorflow-macos==2.14.0->tensorflow->-r requirements.txt (line 3)) (0.41.2)\n",
      "Requirement already satisfied: google-auth<3,>=1.6.3 in /opt/homebrew/lib/python3.11/site-packages (from tensorboard<2.15,>=2.14->tensorflow-macos==2.14.0->tensorflow->-r requirements.txt (line 3)) (2.23.4)\n",
      "Requirement already satisfied: google-auth-oauthlib<1.1,>=0.5 in /opt/homebrew/lib/python3.11/site-packages (from tensorboard<2.15,>=2.14->tensorflow-macos==2.14.0->tensorflow->-r requirements.txt (line 3)) (1.0.0)\n",
      "Requirement already satisfied: markdown>=2.6.8 in /opt/homebrew/lib/python3.11/site-packages (from tensorboard<2.15,>=2.14->tensorflow-macos==2.14.0->tensorflow->-r requirements.txt (line 3)) (3.5.1)\n",
      "Requirement already satisfied: requests<3,>=2.21.0 in /opt/homebrew/lib/python3.11/site-packages (from tensorboard<2.15,>=2.14->tensorflow-macos==2.14.0->tensorflow->-r requirements.txt (line 3)) (2.31.0)\n",
      "Requirement already satisfied: tensorboard-data-server<0.8.0,>=0.7.0 in /opt/homebrew/lib/python3.11/site-packages (from tensorboard<2.15,>=2.14->tensorflow-macos==2.14.0->tensorflow->-r requirements.txt (line 3)) (0.7.2)\n",
      "Requirement already satisfied: werkzeug>=1.0.1 in /opt/homebrew/lib/python3.11/site-packages (from tensorboard<2.15,>=2.14->tensorflow-macos==2.14.0->tensorflow->-r requirements.txt (line 3)) (3.0.1)\n",
      "Requirement already satisfied: cachetools<6.0,>=2.0.0 in /opt/homebrew/lib/python3.11/site-packages (from google-auth<3,>=1.6.3->tensorboard<2.15,>=2.14->tensorflow-macos==2.14.0->tensorflow->-r requirements.txt (line 3)) (5.3.2)\n",
      "Requirement already satisfied: pyasn1-modules>=0.2.1 in /opt/homebrew/lib/python3.11/site-packages (from google-auth<3,>=1.6.3->tensorboard<2.15,>=2.14->tensorflow-macos==2.14.0->tensorflow->-r requirements.txt (line 3)) (0.3.0)\n",
      "Requirement already satisfied: rsa<5,>=3.1.4 in /opt/homebrew/lib/python3.11/site-packages (from google-auth<3,>=1.6.3->tensorboard<2.15,>=2.14->tensorflow-macos==2.14.0->tensorflow->-r requirements.txt (line 3)) (4.9)\n",
      "Requirement already satisfied: requests-oauthlib>=0.7.0 in /opt/homebrew/lib/python3.11/site-packages (from google-auth-oauthlib<1.1,>=0.5->tensorboard<2.15,>=2.14->tensorflow-macos==2.14.0->tensorflow->-r requirements.txt (line 3)) (1.3.1)\n",
      "Requirement already satisfied: charset-normalizer<4,>=2 in /opt/homebrew/lib/python3.11/site-packages (from requests<3,>=2.21.0->tensorboard<2.15,>=2.14->tensorflow-macos==2.14.0->tensorflow->-r requirements.txt (line 3)) (3.3.2)\n",
      "Requirement already satisfied: idna<4,>=2.5 in /opt/homebrew/lib/python3.11/site-packages (from requests<3,>=2.21.0->tensorboard<2.15,>=2.14->tensorflow-macos==2.14.0->tensorflow->-r requirements.txt (line 3)) (3.4)\n",
      "Requirement already satisfied: urllib3<3,>=1.21.1 in /opt/homebrew/lib/python3.11/site-packages (from requests<3,>=2.21.0->tensorboard<2.15,>=2.14->tensorflow-macos==2.14.0->tensorflow->-r requirements.txt (line 3)) (2.0.7)\n",
      "Requirement already satisfied: certifi>=2017.4.17 in /opt/homebrew/lib/python3.11/site-packages (from requests<3,>=2.21.0->tensorboard<2.15,>=2.14->tensorflow-macos==2.14.0->tensorflow->-r requirements.txt (line 3)) (2023.7.22)\n",
      "Requirement already satisfied: MarkupSafe>=2.1.1 in /opt/homebrew/lib/python3.11/site-packages (from werkzeug>=1.0.1->tensorboard<2.15,>=2.14->tensorflow-macos==2.14.0->tensorflow->-r requirements.txt (line 3)) (2.1.3)\n",
      "Requirement already satisfied: pyasn1<0.6.0,>=0.4.6 in /opt/homebrew/lib/python3.11/site-packages (from pyasn1-modules>=0.2.1->google-auth<3,>=1.6.3->tensorboard<2.15,>=2.14->tensorflow-macos==2.14.0->tensorflow->-r requirements.txt (line 3)) (0.5.0)\n",
      "Requirement already satisfied: oauthlib>=3.0.0 in /opt/homebrew/lib/python3.11/site-packages (from requests-oauthlib>=0.7.0->google-auth-oauthlib<1.1,>=0.5->tensorboard<2.15,>=2.14->tensorflow-macos==2.14.0->tensorflow->-r requirements.txt (line 3)) (3.2.2)\n",
      "\n",
      "\u001b[1m[\u001b[0m\u001b[34;49mnotice\u001b[0m\u001b[1;39;49m]\u001b[0m\u001b[39;49m A new release of pip is available: \u001b[0m\u001b[31;49m23.2.1\u001b[0m\u001b[39;49m -> \u001b[0m\u001b[32;49m23.3.1\u001b[0m\n",
      "\u001b[1m[\u001b[0m\u001b[34;49mnotice\u001b[0m\u001b[1;39;49m]\u001b[0m\u001b[39;49m To update, run: \u001b[0m\u001b[32;49mpython3.11 -m pip install --upgrade pip\u001b[0m\n",
      "Note: you may need to restart the kernel to use updated packages.\n"
     ]
    }
   ],
   "source": [
    "%pip install -r requirements.txt"
   ]
  },
  {
   "cell_type": "markdown",
   "metadata": {},
   "source": [
    "## Import Data"
   ]
  },
  {
   "cell_type": "code",
   "execution_count": 85,
   "metadata": {},
   "outputs": [],
   "source": [
    "import pandas as pd\n",
    "import numpy as np\n",
    "\n",
    "# read csv file\n",
    "df = pd.read_csv('data-en-hi-de-fr.csv')"
   ]
  },
  {
   "cell_type": "code",
   "execution_count": 90,
   "metadata": {},
   "outputs": [],
   "source": [
    "from tensorflow.keras.utils import to_categorical\n",
    "\n",
    "# group the dataframe by labels column\n",
    "grouped = df.groupby('labels')\n",
    "\n",
    "# create two dataframes, one for ham and one for spam\n",
    "ham_df = grouped.get_group('ham')\n",
    "spam_df = grouped.get_group('spam')\n",
    "ham_df = ham_df.drop('labels', axis=1)\n",
    "spam_df = spam_df.drop('labels', axis=1)\n",
    "\n",
    "# pivot the data so that each row is a phrase in a language\n",
    "ham_df = ham_df.rename(\n",
    "    columns={'text': 'en', 'text_hi': 'hi', 'text_de': 'de', 'text_fr': 'fr'})\n",
    "ham_df = ham_df.melt(var_name='language', value_name='phrase')\n",
    "spam_df = spam_df.rename(\n",
    "    columns={'text': 'en', 'text_hi': 'hi', 'text_de': 'de', 'text_fr': 'fr'})\n",
    "spam_df = spam_df.melt(var_name='language', value_name='phrase')\n",
    "\n",
    "# create a dictionary of the languages\n",
    "languages = {'en': 0, 'hi': 1, 'de': 2, 'fr': 3}\n",
    "\n",
    "# convert the languages to numbers\n",
    "ham_df['language_code'] = ham_df['language'].map(languages)\n",
    "spam_df['language_code'] = spam_df['language'].map(languages)\n",
    "\n",
    "# one hot encode the languages using to categorical\n",
    "# this is taken from project part 1\n",
    "\n",
    "\n",
    "def one_hot(i):\n",
    "    one_hot_encoded = np.array([0]*4)\n",
    "    one_hot_encoded[i-1] = 1\n",
    "    return np.array(one_hot_encoded)\n",
    "\n",
    "\n",
    "ham_df['language_one_hot'] = ham_df['language_code'].apply(one_hot)\n",
    "spam_df['language_one_hot'] = spam_df['language_code'].apply(one_hot)"
   ]
  },
  {
   "cell_type": "markdown",
   "metadata": {},
   "source": [
    "## Embeddings\n",
    "\n",
    "Creates functions to test out differente embeddings."
   ]
  },
  {
   "cell_type": "code",
   "execution_count": 92,
   "metadata": {},
   "outputs": [],
   "source": [
    "# define a function to tokenize the phrases in each dataframe\n",
    "\n",
    "\n",
    "def tokenize(df):\n",
    "    return [phrase.split() for phrase in df['phrase']]\n",
    "\n",
    "\n",
    "# tokenize the phrases in each dataframe\n",
    "ham_tokens = tokenize(ham_df)\n",
    "spam_tokens = tokenize(spam_df)\n",
    "\n",
    "ham_df['tokens'] = ham_tokens\n",
    "spam_df['tokens'] = spam_tokens"
   ]
  },
  {
   "cell_type": "markdown",
   "metadata": {},
   "source": [
    "### Word2Vec Embeddings"
   ]
  },
  {
   "cell_type": "code",
   "execution_count": 94,
   "metadata": {},
   "outputs": [],
   "source": [
    "import gensim\n",
    "from gensim.models import Word2Vec\n",
    "\n",
    "\n",
    "# train the word2vec model on the ham and spam tokens\n",
    "model = Word2Vec(ham_tokens + spam_tokens, min_count=1)\n",
    "\n",
    "# create the embeddings for each dataframe\n",
    "ham_df['w2v_embedding'] = ham_df['tokens'].apply(\n",
    "    lambda x: model.wv[x].mean(axis=0).astype(np.float32))\n",
    "spam_df['w2v_embedding'] = spam_df['tokens'].apply(\n",
    "    lambda x: model.wv[x].mean(axis=0).astype(np.float32))"
   ]
  },
  {
   "cell_type": "markdown",
   "metadata": {},
   "source": [
    "## Train the Model"
   ]
  },
  {
   "cell_type": "code",
   "execution_count": 110,
   "metadata": {},
   "outputs": [],
   "source": [
    "# create training and testing datasets from the ham and spam dataframes\n",
    "from sklearn.model_selection import train_test_split\n",
    "\n",
    "X = pd.concat([ham_df['w2v_embedding'], spam_df['w2v_embedding']])\n",
    "y = pd.concat([ham_df['language_one_hot'], spam_df['language_one_hot']])\n",
    "\n",
    "X_train, X_test, y_train, y_test = train_test_split(\n",
    "    X, y, test_size=0.2, random_state=42)"
   ]
  },
  {
   "cell_type": "code",
   "execution_count": 106,
   "metadata": {},
   "outputs": [
    {
     "name": "stdout",
     "output_type": "stream",
     "text": [
      "Model: \"sequential_4\"\n",
      "_________________________________________________________________\n",
      " Layer (type)                Output Shape              Param #   \n",
      "=================================================================\n",
      " gru_4 (GRU)                 (None, 64)                18048     \n",
      "                                                                 \n",
      " batch_normalization_4 (Bat  (None, 64)                256       \n",
      " chNormalization)                                                \n",
      "                                                                 \n",
      " dense_4 (Dense)             (None, 10)                650       \n",
      "                                                                 \n",
      "=================================================================\n",
      "Total params: 18954 (74.04 KB)\n",
      "Trainable params: 18826 (73.54 KB)\n",
      "Non-trainable params: 128 (512.00 Byte)\n",
      "_________________________________________________________________\n",
      "None\n"
     ]
    }
   ],
   "source": [
    "import tensorflow as tf\n",
    "from tensorflow import keras\n",
    "from tensorflow.keras import layers\n",
    "\n",
    "model = keras.Sequential()\n",
    "model.add(layers.GRU(64, input_shape=(28, 28)))\n",
    "model.add(layers.BatchNormalization())\n",
    "model.add(layers.Dense(10))\n",
    "print(model.summary())\n",
    "\n",
    "model.compile(\n",
    "    loss=keras.losses.SparseCategoricalCrossentropy(from_logits=True),\n",
    "    optimizer=\"sgd\",\n",
    "    metrics=[\"accuracy\"],\n",
    ")"
   ]
  },
  {
   "cell_type": "code",
   "execution_count": 109,
   "metadata": {},
   "outputs": [
    {
     "ename": "ValueError",
     "evalue": "Failed to convert a NumPy array to a Tensor (Unsupported object type numpy.ndarray).",
     "output_type": "error",
     "traceback": [
      "\u001b[0;31m---------------------------------------------------------------------------\u001b[0m",
      "\u001b[0;31mValueError\u001b[0m                                Traceback (most recent call last)",
      "\u001b[1;32m/Users/elizabethfrey/Development/psyc40/comp-neuro-final-project/main.ipynb Cell 13\u001b[0m line \u001b[0;36m1\n\u001b[0;32m----> <a href='vscode-notebook-cell:/Users/elizabethfrey/Development/psyc40/comp-neuro-final-project/main.ipynb#X35sZmlsZQ%3D%3D?line=0'>1</a>\u001b[0m model\u001b[39m.\u001b[39;49mfit(\n\u001b[1;32m      <a href='vscode-notebook-cell:/Users/elizabethfrey/Development/psyc40/comp-neuro-final-project/main.ipynb#X35sZmlsZQ%3D%3D?line=1'>2</a>\u001b[0m     X_train, y_train, batch_size\u001b[39m=\u001b[39;49m\u001b[39m64\u001b[39;49m, epochs\u001b[39m=\u001b[39;49m\u001b[39m10\u001b[39;49m\n\u001b[1;32m      <a href='vscode-notebook-cell:/Users/elizabethfrey/Development/psyc40/comp-neuro-final-project/main.ipynb#X35sZmlsZQ%3D%3D?line=2'>3</a>\u001b[0m )\n",
      "File \u001b[0;32m/opt/homebrew/lib/python3.11/site-packages/keras/src/utils/traceback_utils.py:70\u001b[0m, in \u001b[0;36mfilter_traceback.<locals>.error_handler\u001b[0;34m(*args, **kwargs)\u001b[0m\n\u001b[1;32m     67\u001b[0m     filtered_tb \u001b[39m=\u001b[39m _process_traceback_frames(e\u001b[39m.\u001b[39m__traceback__)\n\u001b[1;32m     68\u001b[0m     \u001b[39m# To get the full stack trace, call:\u001b[39;00m\n\u001b[1;32m     69\u001b[0m     \u001b[39m# `tf.debugging.disable_traceback_filtering()`\u001b[39;00m\n\u001b[0;32m---> 70\u001b[0m     \u001b[39mraise\u001b[39;00m e\u001b[39m.\u001b[39mwith_traceback(filtered_tb) \u001b[39mfrom\u001b[39;00m \u001b[39mNone\u001b[39;00m\n\u001b[1;32m     71\u001b[0m \u001b[39mfinally\u001b[39;00m:\n\u001b[1;32m     72\u001b[0m     \u001b[39mdel\u001b[39;00m filtered_tb\n",
      "File \u001b[0;32m/opt/homebrew/lib/python3.11/site-packages/tensorflow/python/framework/constant_op.py:102\u001b[0m, in \u001b[0;36mconvert_to_eager_tensor\u001b[0;34m(value, ctx, dtype)\u001b[0m\n\u001b[1;32m    100\u001b[0m     dtype \u001b[39m=\u001b[39m dtypes\u001b[39m.\u001b[39mas_dtype(dtype)\u001b[39m.\u001b[39mas_datatype_enum\n\u001b[1;32m    101\u001b[0m ctx\u001b[39m.\u001b[39mensure_initialized()\n\u001b[0;32m--> 102\u001b[0m \u001b[39mreturn\u001b[39;00m ops\u001b[39m.\u001b[39;49mEagerTensor(value, ctx\u001b[39m.\u001b[39;49mdevice_name, dtype)\n",
      "\u001b[0;31mValueError\u001b[0m: Failed to convert a NumPy array to a Tensor (Unsupported object type numpy.ndarray)."
     ]
    }
   ],
   "source": [
    "model.fit(\n",
    "    X_train, y_train, batch_size=64, epochs=10\n",
    ")"
   ]
  }
 ],
 "metadata": {
  "kernelspec": {
   "display_name": "Python 3",
   "language": "python",
   "name": "python3"
  },
  "language_info": {
   "codemirror_mode": {
    "name": "ipython",
    "version": 3
   },
   "file_extension": ".py",
   "mimetype": "text/x-python",
   "name": "python",
   "nbconvert_exporter": "python",
   "pygments_lexer": "ipython3",
   "version": "3.11.5"
  }
 },
 "nbformat": 4,
 "nbformat_minor": 2
}
