{
 "cells": [
  {
   "cell_type": "markdown",
   "metadata": {},
   "source": [
    "# Computational Neuroscience Final Project\n",
    "## Elizabeth Frey\n",
    "\n",
    "This file exactly follows the tutorial. \n",
    "\n",
    "[Tutorial](https://pythonalgos.com/2022/01/02/build-a-gru-rnn-in-keras/)"
   ]
  },
  {
   "cell_type": "markdown",
   "metadata": {},
   "source": [
    "## Set-Up"
   ]
  },
  {
   "cell_type": "code",
   "execution_count": 1,
   "metadata": {},
   "outputs": [
    {
     "name": "stdout",
     "output_type": "stream",
     "text": [
      "Requirement already satisfied: numpy in /opt/homebrew/lib/python3.11/site-packages (from -r tutorial-requirements.txt (line 1)) (1.26.1)\n",
      "Requirement already satisfied: pandas in /opt/homebrew/lib/python3.11/site-packages (from -r tutorial-requirements.txt (line 2)) (2.1.2)\n",
      "Requirement already satisfied: tensorflow in /opt/homebrew/lib/python3.11/site-packages (from -r tutorial-requirements.txt (line 3)) (2.14.0)\n",
      "Requirement already satisfied: python-dateutil>=2.8.2 in /Users/elizabethfrey/Library/Python/3.11/lib/python/site-packages (from pandas->-r tutorial-requirements.txt (line 2)) (2.8.2)\n",
      "Requirement already satisfied: pytz>=2020.1 in /opt/homebrew/lib/python3.11/site-packages (from pandas->-r tutorial-requirements.txt (line 2)) (2023.3.post1)\n",
      "Requirement already satisfied: tzdata>=2022.1 in /opt/homebrew/lib/python3.11/site-packages (from pandas->-r tutorial-requirements.txt (line 2)) (2023.3)\n",
      "Requirement already satisfied: tensorflow-macos==2.14.0 in /opt/homebrew/lib/python3.11/site-packages (from tensorflow->-r tutorial-requirements.txt (line 3)) (2.14.0)\n",
      "Requirement already satisfied: absl-py>=1.0.0 in /opt/homebrew/lib/python3.11/site-packages (from tensorflow-macos==2.14.0->tensorflow->-r tutorial-requirements.txt (line 3)) (2.0.0)\n",
      "Requirement already satisfied: astunparse>=1.6.0 in /opt/homebrew/lib/python3.11/site-packages (from tensorflow-macos==2.14.0->tensorflow->-r tutorial-requirements.txt (line 3)) (1.6.3)\n",
      "Requirement already satisfied: flatbuffers>=23.5.26 in /opt/homebrew/lib/python3.11/site-packages (from tensorflow-macos==2.14.0->tensorflow->-r tutorial-requirements.txt (line 3)) (23.5.26)\n",
      "Requirement already satisfied: gast!=0.5.0,!=0.5.1,!=0.5.2,>=0.2.1 in /opt/homebrew/lib/python3.11/site-packages (from tensorflow-macos==2.14.0->tensorflow->-r tutorial-requirements.txt (line 3)) (0.5.4)\n",
      "Requirement already satisfied: google-pasta>=0.1.1 in /opt/homebrew/lib/python3.11/site-packages (from tensorflow-macos==2.14.0->tensorflow->-r tutorial-requirements.txt (line 3)) (0.2.0)\n",
      "Requirement already satisfied: h5py>=2.9.0 in /opt/homebrew/lib/python3.11/site-packages (from tensorflow-macos==2.14.0->tensorflow->-r tutorial-requirements.txt (line 3)) (3.10.0)\n",
      "Requirement already satisfied: libclang>=13.0.0 in /opt/homebrew/lib/python3.11/site-packages (from tensorflow-macos==2.14.0->tensorflow->-r tutorial-requirements.txt (line 3)) (16.0.6)\n",
      "Requirement already satisfied: ml-dtypes==0.2.0 in /opt/homebrew/lib/python3.11/site-packages (from tensorflow-macos==2.14.0->tensorflow->-r tutorial-requirements.txt (line 3)) (0.2.0)\n",
      "Requirement already satisfied: opt-einsum>=2.3.2 in /opt/homebrew/lib/python3.11/site-packages (from tensorflow-macos==2.14.0->tensorflow->-r tutorial-requirements.txt (line 3)) (3.3.0)\n",
      "Requirement already satisfied: packaging in /Users/elizabethfrey/Library/Python/3.11/lib/python/site-packages (from tensorflow-macos==2.14.0->tensorflow->-r tutorial-requirements.txt (line 3)) (23.2)\n",
      "Requirement already satisfied: protobuf!=4.21.0,!=4.21.1,!=4.21.2,!=4.21.3,!=4.21.4,!=4.21.5,<5.0.0dev,>=3.20.3 in /opt/homebrew/lib/python3.11/site-packages (from tensorflow-macos==2.14.0->tensorflow->-r tutorial-requirements.txt (line 3)) (4.25.0)\n",
      "Requirement already satisfied: setuptools in /opt/homebrew/lib/python3.11/site-packages (from tensorflow-macos==2.14.0->tensorflow->-r tutorial-requirements.txt (line 3)) (68.1.2)\n",
      "Requirement already satisfied: six>=1.12.0 in /Users/elizabethfrey/Library/Python/3.11/lib/python/site-packages (from tensorflow-macos==2.14.0->tensorflow->-r tutorial-requirements.txt (line 3)) (1.16.0)\n",
      "Requirement already satisfied: termcolor>=1.1.0 in /opt/homebrew/lib/python3.11/site-packages (from tensorflow-macos==2.14.0->tensorflow->-r tutorial-requirements.txt (line 3)) (2.3.0)\n",
      "Requirement already satisfied: typing-extensions>=3.6.6 in /opt/homebrew/lib/python3.11/site-packages (from tensorflow-macos==2.14.0->tensorflow->-r tutorial-requirements.txt (line 3)) (4.8.0)\n",
      "Requirement already satisfied: wrapt<1.15,>=1.11.0 in /opt/homebrew/lib/python3.11/site-packages (from tensorflow-macos==2.14.0->tensorflow->-r tutorial-requirements.txt (line 3)) (1.14.1)\n",
      "Requirement already satisfied: tensorflow-io-gcs-filesystem>=0.23.1 in /opt/homebrew/lib/python3.11/site-packages (from tensorflow-macos==2.14.0->tensorflow->-r tutorial-requirements.txt (line 3)) (0.34.0)\n",
      "Requirement already satisfied: grpcio<2.0,>=1.24.3 in /opt/homebrew/lib/python3.11/site-packages (from tensorflow-macos==2.14.0->tensorflow->-r tutorial-requirements.txt (line 3)) (1.59.2)\n",
      "Requirement already satisfied: tensorboard<2.15,>=2.14 in /opt/homebrew/lib/python3.11/site-packages (from tensorflow-macos==2.14.0->tensorflow->-r tutorial-requirements.txt (line 3)) (2.14.1)\n",
      "Requirement already satisfied: tensorflow-estimator<2.15,>=2.14.0 in /opt/homebrew/lib/python3.11/site-packages (from tensorflow-macos==2.14.0->tensorflow->-r tutorial-requirements.txt (line 3)) (2.14.0)\n",
      "Requirement already satisfied: keras<2.15,>=2.14.0 in /opt/homebrew/lib/python3.11/site-packages (from tensorflow-macos==2.14.0->tensorflow->-r tutorial-requirements.txt (line 3)) (2.14.0)\n",
      "Requirement already satisfied: wheel<1.0,>=0.23.0 in /opt/homebrew/lib/python3.11/site-packages (from astunparse>=1.6.0->tensorflow-macos==2.14.0->tensorflow->-r tutorial-requirements.txt (line 3)) (0.41.2)\n",
      "Requirement already satisfied: google-auth<3,>=1.6.3 in /opt/homebrew/lib/python3.11/site-packages (from tensorboard<2.15,>=2.14->tensorflow-macos==2.14.0->tensorflow->-r tutorial-requirements.txt (line 3)) (2.23.4)\n",
      "Requirement already satisfied: google-auth-oauthlib<1.1,>=0.5 in /opt/homebrew/lib/python3.11/site-packages (from tensorboard<2.15,>=2.14->tensorflow-macos==2.14.0->tensorflow->-r tutorial-requirements.txt (line 3)) (1.0.0)\n",
      "Requirement already satisfied: markdown>=2.6.8 in /opt/homebrew/lib/python3.11/site-packages (from tensorboard<2.15,>=2.14->tensorflow-macos==2.14.0->tensorflow->-r tutorial-requirements.txt (line 3)) (3.5.1)\n",
      "Requirement already satisfied: requests<3,>=2.21.0 in /opt/homebrew/lib/python3.11/site-packages (from tensorboard<2.15,>=2.14->tensorflow-macos==2.14.0->tensorflow->-r tutorial-requirements.txt (line 3)) (2.31.0)\n",
      "Requirement already satisfied: tensorboard-data-server<0.8.0,>=0.7.0 in /opt/homebrew/lib/python3.11/site-packages (from tensorboard<2.15,>=2.14->tensorflow-macos==2.14.0->tensorflow->-r tutorial-requirements.txt (line 3)) (0.7.2)\n",
      "Requirement already satisfied: werkzeug>=1.0.1 in /opt/homebrew/lib/python3.11/site-packages (from tensorboard<2.15,>=2.14->tensorflow-macos==2.14.0->tensorflow->-r tutorial-requirements.txt (line 3)) (3.0.1)\n",
      "Requirement already satisfied: cachetools<6.0,>=2.0.0 in /opt/homebrew/lib/python3.11/site-packages (from google-auth<3,>=1.6.3->tensorboard<2.15,>=2.14->tensorflow-macos==2.14.0->tensorflow->-r tutorial-requirements.txt (line 3)) (5.3.2)\n",
      "Requirement already satisfied: pyasn1-modules>=0.2.1 in /opt/homebrew/lib/python3.11/site-packages (from google-auth<3,>=1.6.3->tensorboard<2.15,>=2.14->tensorflow-macos==2.14.0->tensorflow->-r tutorial-requirements.txt (line 3)) (0.3.0)\n",
      "Requirement already satisfied: rsa<5,>=3.1.4 in /opt/homebrew/lib/python3.11/site-packages (from google-auth<3,>=1.6.3->tensorboard<2.15,>=2.14->tensorflow-macos==2.14.0->tensorflow->-r tutorial-requirements.txt (line 3)) (4.9)\n",
      "Requirement already satisfied: requests-oauthlib>=0.7.0 in /opt/homebrew/lib/python3.11/site-packages (from google-auth-oauthlib<1.1,>=0.5->tensorboard<2.15,>=2.14->tensorflow-macos==2.14.0->tensorflow->-r tutorial-requirements.txt (line 3)) (1.3.1)\n",
      "Requirement already satisfied: charset-normalizer<4,>=2 in /opt/homebrew/lib/python3.11/site-packages (from requests<3,>=2.21.0->tensorboard<2.15,>=2.14->tensorflow-macos==2.14.0->tensorflow->-r tutorial-requirements.txt (line 3)) (3.3.2)\n",
      "Requirement already satisfied: idna<4,>=2.5 in /opt/homebrew/lib/python3.11/site-packages (from requests<3,>=2.21.0->tensorboard<2.15,>=2.14->tensorflow-macos==2.14.0->tensorflow->-r tutorial-requirements.txt (line 3)) (3.4)\n",
      "Requirement already satisfied: urllib3<3,>=1.21.1 in /opt/homebrew/lib/python3.11/site-packages (from requests<3,>=2.21.0->tensorboard<2.15,>=2.14->tensorflow-macos==2.14.0->tensorflow->-r tutorial-requirements.txt (line 3)) (2.0.7)\n",
      "Requirement already satisfied: certifi>=2017.4.17 in /opt/homebrew/lib/python3.11/site-packages (from requests<3,>=2.21.0->tensorboard<2.15,>=2.14->tensorflow-macos==2.14.0->tensorflow->-r tutorial-requirements.txt (line 3)) (2023.7.22)\n",
      "Requirement already satisfied: MarkupSafe>=2.1.1 in /opt/homebrew/lib/python3.11/site-packages (from werkzeug>=1.0.1->tensorboard<2.15,>=2.14->tensorflow-macos==2.14.0->tensorflow->-r tutorial-requirements.txt (line 3)) (2.1.3)\n",
      "Requirement already satisfied: pyasn1<0.6.0,>=0.4.6 in /opt/homebrew/lib/python3.11/site-packages (from pyasn1-modules>=0.2.1->google-auth<3,>=1.6.3->tensorboard<2.15,>=2.14->tensorflow-macos==2.14.0->tensorflow->-r tutorial-requirements.txt (line 3)) (0.5.0)\n",
      "Requirement already satisfied: oauthlib>=3.0.0 in /opt/homebrew/lib/python3.11/site-packages (from requests-oauthlib>=0.7.0->google-auth-oauthlib<1.1,>=0.5->tensorboard<2.15,>=2.14->tensorflow-macos==2.14.0->tensorflow->-r tutorial-requirements.txt (line 3)) (3.2.2)\n",
      "\n",
      "\u001b[1m[\u001b[0m\u001b[34;49mnotice\u001b[0m\u001b[1;39;49m]\u001b[0m\u001b[39;49m A new release of pip is available: \u001b[0m\u001b[31;49m23.2.1\u001b[0m\u001b[39;49m -> \u001b[0m\u001b[32;49m23.3.1\u001b[0m\n",
      "\u001b[1m[\u001b[0m\u001b[34;49mnotice\u001b[0m\u001b[1;39;49m]\u001b[0m\u001b[39;49m To update, run: \u001b[0m\u001b[32;49mpython3.11 -m pip install --upgrade pip\u001b[0m\n",
      "Note: you may need to restart the kernel to use updated packages.\n"
     ]
    }
   ],
   "source": [
    "%pip install -r tutorial-requirements.txt"
   ]
  },
  {
   "cell_type": "markdown",
   "metadata": {},
   "source": [
    "## Parse Dataset"
   ]
  },
  {
   "cell_type": "code",
   "execution_count": 11,
   "metadata": {},
   "outputs": [],
   "source": [
    "mnist = keras.datasets.mnist\n",
    "(x_train, y_train), (x_test, y_test) = mnist.load_data()\n",
    "x_train, x_test = x_train/255.0, x_test/255.0\n",
    "x_validate, y_validate = x_test[:-10], y_test[:-10]\n",
    "x_test, y_test = x_test[-10:], y_test[-10:]"
   ]
  },
  {
   "cell_type": "markdown",
   "metadata": {},
   "source": [
    "## Create the Model"
   ]
  },
  {
   "cell_type": "code",
   "execution_count": 10,
   "metadata": {},
   "outputs": [
    {
     "name": "stdout",
     "output_type": "stream",
     "text": [
      "Model: \"sequential_5\"\n",
      "_________________________________________________________________\n",
      " Layer (type)                Output Shape              Param #   \n",
      "=================================================================\n",
      " gru_5 (GRU)                 (None, 64)                18048     \n",
      "                                                                 \n",
      " batch_normalization_5 (Bat  (None, 64)                256       \n",
      " chNormalization)                                                \n",
      "                                                                 \n",
      " dense_5 (Dense)             (None, 10)                650       \n",
      "                                                                 \n",
      "=================================================================\n",
      "Total params: 18954 (74.04 KB)\n",
      "Trainable params: 18826 (73.54 KB)\n",
      "Non-trainable params: 128 (512.00 Byte)\n",
      "_________________________________________________________________\n",
      "None\n"
     ]
    }
   ],
   "source": [
    "import tensorflow as tf\n",
    "from tensorflow import keras\n",
    "from tensorflow.keras import layers\n",
    "\n",
    "model = keras.Sequential()\n",
    "model.add(layers.GRU(64, input_shape=(28, 28)))\n",
    "model.add(layers.BatchNormalization())\n",
    "model.add(layers.Dense(10))\n",
    "print(model.summary())\n",
    "\n",
    "model.compile(\n",
    "    loss=keras.losses.SparseCategoricalCrossentropy(from_logits=True),\n",
    "    optimizer=\"sgd\",\n",
    "    metrics=[\"accuracy\"],\n",
    ")"
   ]
  },
  {
   "cell_type": "markdown",
   "metadata": {},
   "source": [
    "## Train Model"
   ]
  },
  {
   "cell_type": "code",
   "execution_count": 13,
   "metadata": {},
   "outputs": [
    {
     "name": "stdout",
     "output_type": "stream",
     "text": [
      "Epoch 1/10\n",
      "938/938 [==============================] - 8s 8ms/step - loss: 0.6236 - accuracy: 0.7969 - val_loss: 0.4865 - val_accuracy: 0.8382\n",
      "Epoch 2/10\n",
      "938/938 [==============================] - 7s 8ms/step - loss: 0.4286 - accuracy: 0.8672 - val_loss: 0.4803 - val_accuracy: 0.8348\n",
      "Epoch 3/10\n",
      "938/938 [==============================] - 7s 8ms/step - loss: 0.3279 - accuracy: 0.9010 - val_loss: 0.2675 - val_accuracy: 0.9177\n",
      "Epoch 4/10\n",
      "938/938 [==============================] - 7s 8ms/step - loss: 0.2685 - accuracy: 0.9173 - val_loss: 0.2238 - val_accuracy: 0.9321\n",
      "Epoch 5/10\n",
      "938/938 [==============================] - 7s 8ms/step - loss: 0.2251 - accuracy: 0.9320 - val_loss: 0.2157 - val_accuracy: 0.9341\n",
      "Epoch 6/10\n",
      "938/938 [==============================] - 7s 8ms/step - loss: 0.1933 - accuracy: 0.9410 - val_loss: 0.1681 - val_accuracy: 0.9493\n",
      "Epoch 7/10\n",
      "938/938 [==============================] - 7s 8ms/step - loss: 0.1703 - accuracy: 0.9481 - val_loss: 0.1561 - val_accuracy: 0.9527\n",
      "Epoch 8/10\n",
      "938/938 [==============================] - 7s 8ms/step - loss: 0.1528 - accuracy: 0.9534 - val_loss: 0.1464 - val_accuracy: 0.9558\n",
      "Epoch 9/10\n",
      "938/938 [==============================] - 7s 8ms/step - loss: 0.1397 - accuracy: 0.9568 - val_loss: 0.1304 - val_accuracy: 0.9626\n",
      "Epoch 10/10\n",
      "938/938 [==============================] - 7s 8ms/step - loss: 0.1301 - accuracy: 0.9595 - val_loss: 0.1207 - val_accuracy: 0.9645\n"
     ]
    },
    {
     "data": {
      "text/plain": [
       "<keras.src.callbacks.History at 0x17ad9bb10>"
      ]
     },
     "execution_count": 13,
     "metadata": {},
     "output_type": "execute_result"
    }
   ],
   "source": [
    "model.fit(\n",
    "    x_train, y_train, validation_data=(x_validate, y_validate), batch_size=64, epochs=10\n",
    ")"
   ]
  },
  {
   "cell_type": "markdown",
   "metadata": {},
   "source": [
    "## Test Model"
   ]
  },
  {
   "cell_type": "code",
   "execution_count": 14,
   "metadata": {},
   "outputs": [
    {
     "name": "stdout",
     "output_type": "stream",
     "text": [
      "1/1 [==============================] - 0s 332ms/step\n",
      "[7] 7\n",
      "1/1 [==============================] - 0s 11ms/step\n",
      "[8] 8\n",
      "1/1 [==============================] - 0s 11ms/step\n",
      "[9] 9\n",
      "1/1 [==============================] - 0s 11ms/step\n",
      "[0] 0\n",
      "1/1 [==============================] - 0s 10ms/step\n",
      "[1] 1\n",
      "1/1 [==============================] - 0s 11ms/step\n",
      "[2] 2\n",
      "1/1 [==============================] - 0s 11ms/step\n",
      "[3] 3\n",
      "1/1 [==============================] - 0s 11ms/step\n",
      "[4] 4\n",
      "1/1 [==============================] - 0s 10ms/step\n",
      "[5] 5\n",
      "1/1 [==============================] - 0s 11ms/step\n",
      "[6] 6\n"
     ]
    }
   ],
   "source": [
    "for i in range(10):\n",
    "    result = tf.argmax(model.predict(tf.expand_dims(x_test[i], 0)), axis=1)\n",
    "    print(result.numpy(), y_test[i])"
   ]
  }
 ],
 "metadata": {
  "kernelspec": {
   "display_name": "Python 3",
   "language": "python",
   "name": "python3"
  },
  "language_info": {
   "codemirror_mode": {
    "name": "ipython",
    "version": 3
   },
   "file_extension": ".py",
   "mimetype": "text/x-python",
   "name": "python",
   "nbconvert_exporter": "python",
   "pygments_lexer": "ipython3",
   "version": "3.11.5"
  }
 },
 "nbformat": 4,
 "nbformat_minor": 2
}
